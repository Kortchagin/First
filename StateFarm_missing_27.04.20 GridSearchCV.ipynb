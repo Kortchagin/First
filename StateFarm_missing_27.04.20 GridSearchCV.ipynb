{
 "cells": [
  {
   "cell_type": "markdown",
   "metadata": {},
   "source": [
    "Task 27.04.20\n",
    "Bankloan \n",
    "Logistic regression\n",
    "Pipeline\n",
    "Cross validation"
   ]
  },
  {
   "cell_type": "code",
   "execution_count": 106,
   "metadata": {},
   "outputs": [],
   "source": [
    "import os\n",
    "import numpy as np\n",
    "import pandas as pd\n",
    "from sklearn.model_selection import train_test_split\n",
    "from sklearn.impute import SimpleImputer\n",
    "from sklearn.preprocessing import StandardScaler, OneHotEncoder\n",
    "from sklearn.compose import ColumnTransformer\n",
    "from sklearn.linear_model import LogisticRegression\n",
    "from sklearn.ensemble import GradientBoostingRegressor\n",
    "#from catboost import CatBoostClassifier\n",
    "from sklearn.metrics import roc_auc_score\n",
    "from sklearn.model_selection import KFold\n",
    "from sklearn.pipeline import Pipeline\n",
    "from sklearn.model_selection import GridSearchCV, RandomizedSearchCV\n",
    "#from sklearn.model_selection import cross_val_score, cross_val_predict\n",
    "#from category_encoders import WOEEncoder, SumEncoder"
   ]
  },
  {
   "cell_type": "code",
   "execution_count": 107,
   "metadata": {},
   "outputs": [
    {
     "data": {
      "text/plain": [
       "'D:\\\\ML\\\\jupiter_notebook\\\\Gewissta\\\\Course_ML\\\\Модуль_1\\\\Data'"
      ]
     },
     "execution_count": 107,
     "metadata": {},
     "output_type": "execute_result"
    }
   ],
   "source": [
    "os.getcwd()"
   ]
  },
  {
   "cell_type": "code",
   "execution_count": 108,
   "metadata": {},
   "outputs": [],
   "source": [
    "os.chdir('D:\\\\ML\\\\jupiter_notebook\\\\Gewissta\\\\Course_ML\\\\Модуль_1\\\\Data')"
   ]
  },
  {
   "cell_type": "markdown",
   "metadata": {},
   "source": [
    "# StateFarm_missing"
   ]
  },
  {
   "cell_type": "code",
   "execution_count": 128,
   "metadata": {},
   "outputs": [],
   "source": [
    "data = pd.read_csv('StateFarm_missing.csv', sep = ';')"
   ]
  },
  {
   "cell_type": "code",
   "execution_count": 129,
   "metadata": {},
   "outputs": [
    {
     "data": {
      "text/html": [
       "<div>\n",
       "<style scoped>\n",
       "    .dataframe tbody tr th:only-of-type {\n",
       "        vertical-align: middle;\n",
       "    }\n",
       "\n",
       "    .dataframe tbody tr th {\n",
       "        vertical-align: top;\n",
       "    }\n",
       "\n",
       "    .dataframe thead th {\n",
       "        text-align: right;\n",
       "    }\n",
       "</style>\n",
       "<table border=\"1\" class=\"dataframe\">\n",
       "  <thead>\n",
       "    <tr style=\"text-align: right;\">\n",
       "      <th></th>\n",
       "      <th>Customer Lifetime Value</th>\n",
       "      <th>Coverage</th>\n",
       "      <th>Education</th>\n",
       "      <th>EmploymentStatus</th>\n",
       "      <th>Gender</th>\n",
       "      <th>Income</th>\n",
       "      <th>Monthly Premium Auto</th>\n",
       "      <th>Months Since Last Claim</th>\n",
       "      <th>Months Since Policy Inception</th>\n",
       "      <th>Number of Open Complaints</th>\n",
       "      <th>Number of Policies</th>\n",
       "      <th>Response</th>\n",
       "    </tr>\n",
       "  </thead>\n",
       "  <tbody>\n",
       "    <tr>\n",
       "      <th>0</th>\n",
       "      <td>2763.519279</td>\n",
       "      <td>Basic</td>\n",
       "      <td>Bachelor</td>\n",
       "      <td>Employed</td>\n",
       "      <td>F</td>\n",
       "      <td>56274.0</td>\n",
       "      <td>NaN</td>\n",
       "      <td>32.0</td>\n",
       "      <td>5.0</td>\n",
       "      <td>NaN</td>\n",
       "      <td>1.0</td>\n",
       "      <td>No</td>\n",
       "    </tr>\n",
       "    <tr>\n",
       "      <th>1</th>\n",
       "      <td>NaN</td>\n",
       "      <td>NaN</td>\n",
       "      <td>Bachelor</td>\n",
       "      <td>Unemployed</td>\n",
       "      <td>F</td>\n",
       "      <td>0.0</td>\n",
       "      <td>NaN</td>\n",
       "      <td>13.0</td>\n",
       "      <td>42.0</td>\n",
       "      <td>NaN</td>\n",
       "      <td>NaN</td>\n",
       "      <td>No</td>\n",
       "    </tr>\n",
       "    <tr>\n",
       "      <th>2</th>\n",
       "      <td>NaN</td>\n",
       "      <td>NaN</td>\n",
       "      <td>NaN</td>\n",
       "      <td>Employed</td>\n",
       "      <td>F</td>\n",
       "      <td>48767.0</td>\n",
       "      <td>108.0</td>\n",
       "      <td>NaN</td>\n",
       "      <td>38.0</td>\n",
       "      <td>0.0</td>\n",
       "      <td>NaN</td>\n",
       "      <td>No</td>\n",
       "    </tr>\n",
       "    <tr>\n",
       "      <th>3</th>\n",
       "      <td>7645.861827</td>\n",
       "      <td>Basic</td>\n",
       "      <td>Bachelor</td>\n",
       "      <td>NaN</td>\n",
       "      <td>NaN</td>\n",
       "      <td>0.0</td>\n",
       "      <td>106.0</td>\n",
       "      <td>18.0</td>\n",
       "      <td>NaN</td>\n",
       "      <td>NaN</td>\n",
       "      <td>7.0</td>\n",
       "      <td>No</td>\n",
       "    </tr>\n",
       "    <tr>\n",
       "      <th>4</th>\n",
       "      <td>2813.692575</td>\n",
       "      <td>Basic</td>\n",
       "      <td>Bachelor</td>\n",
       "      <td>NaN</td>\n",
       "      <td>M</td>\n",
       "      <td>43836.0</td>\n",
       "      <td>73.0</td>\n",
       "      <td>12.0</td>\n",
       "      <td>NaN</td>\n",
       "      <td>NaN</td>\n",
       "      <td>1.0</td>\n",
       "      <td>No</td>\n",
       "    </tr>\n",
       "  </tbody>\n",
       "</table>\n",
       "</div>"
      ],
      "text/plain": [
       "   Customer Lifetime Value Coverage Education EmploymentStatus Gender  \\\n",
       "0              2763.519279    Basic  Bachelor         Employed      F   \n",
       "1                      NaN      NaN  Bachelor       Unemployed      F   \n",
       "2                      NaN      NaN       NaN         Employed      F   \n",
       "3              7645.861827    Basic  Bachelor              NaN    NaN   \n",
       "4              2813.692575    Basic  Bachelor              NaN      M   \n",
       "\n",
       "    Income  Monthly Premium Auto  Months Since Last Claim  \\\n",
       "0  56274.0                   NaN                     32.0   \n",
       "1      0.0                   NaN                     13.0   \n",
       "2  48767.0                 108.0                      NaN   \n",
       "3      0.0                 106.0                     18.0   \n",
       "4  43836.0                  73.0                     12.0   \n",
       "\n",
       "   Months Since Policy Inception  Number of Open Complaints  \\\n",
       "0                            5.0                        NaN   \n",
       "1                           42.0                        NaN   \n",
       "2                           38.0                        0.0   \n",
       "3                            NaN                        NaN   \n",
       "4                            NaN                        NaN   \n",
       "\n",
       "   Number of Policies Response  \n",
       "0                 1.0       No  \n",
       "1                 NaN       No  \n",
       "2                 NaN       No  \n",
       "3                 7.0       No  \n",
       "4                 1.0       No  "
      ]
     },
     "execution_count": 129,
     "metadata": {},
     "output_type": "execute_result"
    }
   ],
   "source": [
    "data.head()"
   ]
  },
  {
   "cell_type": "code",
   "execution_count": 130,
   "metadata": {},
   "outputs": [
    {
     "name": "stdout",
     "output_type": "stream",
     "text": [
      "<class 'pandas.core.frame.DataFrame'>\n",
      "RangeIndex: 8293 entries, 0 to 8292\n",
      "Data columns (total 12 columns):\n",
      "Customer Lifetime Value          8289 non-null float64\n",
      "Coverage                         8288 non-null object\n",
      "Education                        8290 non-null object\n",
      "EmploymentStatus                 8288 non-null object\n",
      "Gender                           8289 non-null object\n",
      "Income                           8291 non-null float64\n",
      "Monthly Premium Auto             8282 non-null float64\n",
      "Months Since Last Claim          8288 non-null float64\n",
      "Months Since Policy Inception    8285 non-null float64\n",
      "Number of Open Complaints        8287 non-null float64\n",
      "Number of Policies               8288 non-null float64\n",
      "Response                         8293 non-null object\n",
      "dtypes: float64(7), object(5)\n",
      "memory usage: 777.5+ KB\n"
     ]
    }
   ],
   "source": [
    "data.info()"
   ]
  },
  {
   "cell_type": "code",
   "execution_count": 131,
   "metadata": {},
   "outputs": [
    {
     "data": {
      "text/plain": [
       "Customer Lifetime Value           4\n",
       "Coverage                          5\n",
       "Education                         3\n",
       "EmploymentStatus                  5\n",
       "Gender                            4\n",
       "Income                            2\n",
       "Monthly Premium Auto             11\n",
       "Months Since Last Claim           5\n",
       "Months Since Policy Inception     8\n",
       "Number of Open Complaints         6\n",
       "Number of Policies                5\n",
       "Response                          0\n",
       "dtype: int64"
      ]
     },
     "execution_count": 131,
     "metadata": {},
     "output_type": "execute_result"
    }
   ],
   "source": [
    "data.isnull().sum()"
   ]
  },
  {
   "cell_type": "code",
   "execution_count": 132,
   "metadata": {},
   "outputs": [
    {
     "data": {
      "text/plain": [
       "count     8293\n",
       "unique       2\n",
       "top         No\n",
       "freq      7462\n",
       "Name: Response, dtype: object"
      ]
     },
     "execution_count": 132,
     "metadata": {},
     "output_type": "execute_result"
    }
   ],
   "source": [
    "data['Response'].describe()"
   ]
  },
  {
   "cell_type": "code",
   "execution_count": 133,
   "metadata": {},
   "outputs": [],
   "source": [
    "data['Response'] = data['Response'].replace({'No':0, 'Yes':1})"
   ]
  },
  {
   "cell_type": "code",
   "execution_count": 134,
   "metadata": {},
   "outputs": [],
   "source": [
    "X_train, X_test, y_train, y_test = train_test_split(data.drop('Response', axis = 1), data['Response'], \n",
    "                                                    test_size = 0.3, stratify = data['Response'],\n",
    "                                                   random_state = 42)"
   ]
  },
  {
   "cell_type": "code",
   "execution_count": 135,
   "metadata": {},
   "outputs": [],
   "source": [
    "cat_columns = X_train.dtypes[X_train.dtypes == 'object'].index\n",
    "num_columns = X_train.dtypes[X_train.dtypes != 'object'].index"
   ]
  },
  {
   "cell_type": "code",
   "execution_count": 136,
   "metadata": {},
   "outputs": [],
   "source": [
    "num_pipe = Pipeline([('imp', SimpleImputer()), \n",
    "                    ('scaler', StandardScaler())])"
   ]
  },
  {
   "cell_type": "code",
   "execution_count": 137,
   "metadata": {},
   "outputs": [],
   "source": [
    "cat_pipe = Pipeline([('imp', SimpleImputer()), \n",
    "                    ('ohe', OneHotEncoder(sparse = False, handle_unknown = 'ignore'))])"
   ]
  },
  {
   "cell_type": "code",
   "execution_count": 138,
   "metadata": {},
   "outputs": [],
   "source": [
    "transformers = [('num', num_pipe, num_columns), ('cat', cat_pipe, cat_columns)]"
   ]
  },
  {
   "cell_type": "code",
   "execution_count": 139,
   "metadata": {},
   "outputs": [],
   "source": [
    "transformer = ColumnTransformer(transformers = transformers)"
   ]
  },
  {
   "cell_type": "code",
   "execution_count": 140,
   "metadata": {},
   "outputs": [],
   "source": [
    "ml_pipe = Pipeline([('tf', transformer),\n",
    "                    ('logreg', LogisticRegression(solver = 'lbfgs', max_iter = 200))])"
   ]
  },
  {
   "cell_type": "code",
   "execution_count": 141,
   "metadata": {},
   "outputs": [],
   "source": [
    "param_grid = {\n",
    "    'tf__num__imp__strategy': ['mean', 'median', 'constant'],    \n",
    "    'tf__cat__imp__strategy': ['most_frequent', 'constant'],\n",
    "    'logreg__C': [.01, .1, .5, 1, 5, 10, 100]\n",
    "}"
   ]
  },
  {
   "cell_type": "code",
   "execution_count": 142,
   "metadata": {},
   "outputs": [],
   "source": [
    "gs = GridSearchCV(ml_pipe, param_grid, cv = 5, return_train_score = False)"
   ]
  },
  {
   "cell_type": "code",
   "execution_count": 143,
   "metadata": {},
   "outputs": [
    {
     "data": {
      "text/plain": [
       "4065    1\n",
       "1258    0\n",
       "2963    0\n",
       "3339    0\n",
       "6986    0\n",
       "Name: Response, dtype: int64"
      ]
     },
     "execution_count": 143,
     "metadata": {},
     "output_type": "execute_result"
    }
   ],
   "source": [
    "y_train.head()"
   ]
  },
  {
   "cell_type": "code",
   "execution_count": 149,
   "metadata": {},
   "outputs": [
    {
     "name": "stderr",
     "output_type": "stream",
     "text": [
      "C:\\Users\\Dell\\Anaconda3\\envs\\py36\\lib\\site-packages\\sklearn\\linear_model\\logistic.py:758: ConvergenceWarning: lbfgs failed to converge. Increase the number of iterations.\n",
      "  \"of iterations.\", ConvergenceWarning)\n"
     ]
    },
    {
     "name": "stdout",
     "output_type": "stream",
     "text": [
      "best parameters {'logreg__C': 0.01, 'tf__cat__imp__strategy': 'most_frequent', 'tf__num__imp__strategy': 'mean'}\n",
      "best score 0.8997416020671835\n",
      "Accuracy test 0.89991961414791\n",
      "Wall time: 8.84 s\n"
     ]
    }
   ],
   "source": [
    "gs.fit(X_train, y_train)\n",
    "print('best parameters', gs.best_params_)\n",
    "print('best score', gs.best_score_)\n",
    "print('Accuracy test', gs.score(X_test, y_test))\n",
    "#print('All results', gs.cv_results_)"
   ]
  },
  {
   "cell_type": "code",
   "execution_count": 151,
   "metadata": {},
   "outputs": [
    {
     "name": "stdout",
     "output_type": "stream",
     "text": [
      "                                                                           mean_test_score\n",
      "param_logreg__C param_tf__cat__imp__strategy param_tf__num__imp__strategy                 \n",
      "0.01            constant                     constant                             0.899742\n",
      "                                             mean                                 0.899742\n",
      "                                             median                               0.899742\n",
      "                most_frequent                constant                             0.899742\n",
      "                                             mean                                 0.899742\n",
      "                                             median                               0.899742\n",
      "0.10            constant                     constant                             0.899569\n",
      "                                             mean                                 0.899569\n",
      "                                             median                               0.899569\n",
      "                most_frequent                constant                             0.899569\n",
      "                                             mean                                 0.899569\n",
      "                                             median                               0.899569\n",
      "0.50            constant                     constant                             0.898363\n",
      "                                             mean                                 0.898363\n",
      "                                             median                               0.898363\n",
      "                most_frequent                constant                             0.898363\n",
      "                                             mean                                 0.898363\n",
      "                                             median                               0.898363\n",
      "1.00            constant                     constant                             0.898363\n",
      "                                             mean                                 0.898363\n",
      "                                             median                               0.898363\n",
      "                most_frequent                constant                             0.898363\n",
      "                                             mean                                 0.898363\n",
      "                                             median                               0.898363\n",
      "5.00            constant                     constant                             0.897674\n",
      "                                             mean                                 0.897502\n",
      "                                             median                               0.897502\n",
      "                most_frequent                constant                             0.897674\n",
      "                                             mean                                 0.897502\n",
      "                                             median                               0.897502\n",
      "10.00           constant                     constant                             0.897847\n",
      "                                             mean                                 0.897502\n",
      "                                             median                               0.897502\n",
      "                most_frequent                constant                             0.898019\n",
      "                                             mean                                 0.897502\n",
      "                                             median                               0.897674\n",
      "100.00          constant                     constant                             0.897847\n",
      "                                             mean                                 0.897847\n",
      "                                             median                               0.897847\n",
      "                most_frequent                constant                             0.897847\n",
      "                                             mean                                 0.897847\n",
      "                                             median                               0.897847\n"
     ]
    }
   ],
   "source": [
    "results = pd.DataFrame(gs.cv_results_)\n",
    "table = results.pivot_table(values=['mean_test_score'],    \n",
    "                            index=['param_logreg__C', \n",
    "                                   'param_tf__cat__imp__strategy',\n",
    "                                   'param_tf__num__imp__strategy'])\n",
    "print(table)"
   ]
  },
  {
   "cell_type": "code",
   "execution_count": null,
   "metadata": {},
   "outputs": [],
   "source": []
  }
 ],
 "metadata": {
  "kernelspec": {
   "display_name": "Python 3",
   "language": "python",
   "name": "python3"
  },
  "language_info": {
   "codemirror_mode": {
    "name": "ipython",
    "version": 3
   },
   "file_extension": ".py",
   "mimetype": "text/x-python",
   "name": "python",
   "nbconvert_exporter": "python",
   "pygments_lexer": "ipython3",
   "version": "3.6.6"
  }
 },
 "nbformat": 4,
 "nbformat_minor": 2
}
