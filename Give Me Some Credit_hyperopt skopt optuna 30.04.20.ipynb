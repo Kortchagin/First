{
 "cells": [
  {
   "cell_type": "markdown",
   "metadata": {},
   "source": [
    "# Task 30.04.20 Give Me Some Credit. Применение hyperopt, scopt, optuna"
   ]
  },
  {
   "cell_type": "code",
   "execution_count": 39,
   "metadata": {},
   "outputs": [],
   "source": [
    "#Выбросы (взгляд из Excel)\n",
    "#NumberOfTime30-59DaysPastDueNotWorse, NumberOfTimes90DaysLate, NumberOfTime60-89DaysPastDueNotWorse = 96 или 98\n",
    "#Очень большой DebtRatio, как правило, при MonthlyIncome = NA или 0. Импутация MonthlyIncome ситуацию не исправит, \n",
    "#т.к. не приведёт к пересчету DebtRatio.\n",
    "#И пр.\n"
   ]
  },
  {
   "cell_type": "code",
   "execution_count": 40,
   "metadata": {},
   "outputs": [],
   "source": [
    "import os\n",
    "import numpy as np\n",
    "import pandas as pd\n",
    "from sklearn.model_selection import train_test_split\n",
    "from sklearn.impute import SimpleImputer\n",
    "from sklearn.preprocessing import StandardScaler, OneHotEncoder\n",
    "from sklearn.compose import ColumnTransformer\n",
    "from sklearn.linear_model import LogisticRegression\n",
    "#from sklearn.ensemble import GradientBoostingRegressor\n",
    "#from catboost import CatBoostClassifier\n",
    "from sklearn.metrics import accuracy_score, roc_auc_score\n",
    "#from sklearn.model_selection import KFold\n",
    "from sklearn.pipeline import Pipeline\n",
    "#from sklearn.model_selection import GridSearchCV, RandomizedSearchCV\n",
    "from sklearn.model_selection import cross_val_score, cross_val_predict\n",
    "#from category_encoders import WOEEncoder, SumEncoder\n",
    "import matplotlib.pyplot as plt\n",
    "%matplotlib inline\n",
    "from lightgbm import LGBMClassifier\n",
    "import hyperopt\n",
    "from hyperopt import fmin, tpe, hp, STATUS_OK, Trials, space_eval\n",
    "from numpy.random import RandomState\n",
    "import warnings\n",
    "warnings.filterwarnings(\"ignore\")"
   ]
  },
  {
   "cell_type": "code",
   "execution_count": 41,
   "metadata": {},
   "outputs": [
    {
     "data": {
      "text/plain": [
       "'D:\\\\ML\\\\Gewissta\\\\My course\\\\GiveMeSomeCredit'"
      ]
     },
     "execution_count": 41,
     "metadata": {},
     "output_type": "execute_result"
    }
   ],
   "source": [
    "os.getcwd()"
   ]
  },
  {
   "cell_type": "code",
   "execution_count": 42,
   "metadata": {},
   "outputs": [],
   "source": [
    "os.chdir('D:\\\\ML\\\\Gewissta\\\\My course\\\\GiveMeSomeCredit')"
   ]
  },
  {
   "cell_type": "code",
   "execution_count": 43,
   "metadata": {},
   "outputs": [],
   "source": [
    "data = pd.read_csv('cs-training.csv', sep = ',')"
   ]
  },
  {
   "cell_type": "code",
   "execution_count": 44,
   "metadata": {},
   "outputs": [
    {
     "data": {
      "text/html": [
       "<div>\n",
       "<style scoped>\n",
       "    .dataframe tbody tr th:only-of-type {\n",
       "        vertical-align: middle;\n",
       "    }\n",
       "\n",
       "    .dataframe tbody tr th {\n",
       "        vertical-align: top;\n",
       "    }\n",
       "\n",
       "    .dataframe thead th {\n",
       "        text-align: right;\n",
       "    }\n",
       "</style>\n",
       "<table border=\"1\" class=\"dataframe\">\n",
       "  <thead>\n",
       "    <tr style=\"text-align: right;\">\n",
       "      <th></th>\n",
       "      <th>Unnamed: 0</th>\n",
       "      <th>SeriousDlqin2yrs</th>\n",
       "      <th>RevolvingUtilizationOfUnsecuredLines</th>\n",
       "      <th>age</th>\n",
       "      <th>NumberOfTime30-59DaysPastDueNotWorse</th>\n",
       "      <th>DebtRatio</th>\n",
       "      <th>MonthlyIncome</th>\n",
       "      <th>NumberOfOpenCreditLinesAndLoans</th>\n",
       "      <th>NumberOfTimes90DaysLate</th>\n",
       "      <th>NumberRealEstateLoansOrLines</th>\n",
       "      <th>NumberOfTime60-89DaysPastDueNotWorse</th>\n",
       "      <th>NumberOfDependents</th>\n",
       "    </tr>\n",
       "  </thead>\n",
       "  <tbody>\n",
       "    <tr>\n",
       "      <th>149995</th>\n",
       "      <td>149996</td>\n",
       "      <td>0</td>\n",
       "      <td>0.040674</td>\n",
       "      <td>74</td>\n",
       "      <td>0</td>\n",
       "      <td>0.225131</td>\n",
       "      <td>2100.0</td>\n",
       "      <td>4</td>\n",
       "      <td>0</td>\n",
       "      <td>1</td>\n",
       "      <td>0</td>\n",
       "      <td>0.0</td>\n",
       "    </tr>\n",
       "    <tr>\n",
       "      <th>149996</th>\n",
       "      <td>149997</td>\n",
       "      <td>0</td>\n",
       "      <td>0.299745</td>\n",
       "      <td>44</td>\n",
       "      <td>0</td>\n",
       "      <td>0.716562</td>\n",
       "      <td>5584.0</td>\n",
       "      <td>4</td>\n",
       "      <td>0</td>\n",
       "      <td>1</td>\n",
       "      <td>0</td>\n",
       "      <td>2.0</td>\n",
       "    </tr>\n",
       "    <tr>\n",
       "      <th>149997</th>\n",
       "      <td>149998</td>\n",
       "      <td>0</td>\n",
       "      <td>0.246044</td>\n",
       "      <td>58</td>\n",
       "      <td>0</td>\n",
       "      <td>3870.000000</td>\n",
       "      <td>NaN</td>\n",
       "      <td>18</td>\n",
       "      <td>0</td>\n",
       "      <td>1</td>\n",
       "      <td>0</td>\n",
       "      <td>0.0</td>\n",
       "    </tr>\n",
       "    <tr>\n",
       "      <th>149998</th>\n",
       "      <td>149999</td>\n",
       "      <td>0</td>\n",
       "      <td>0.000000</td>\n",
       "      <td>30</td>\n",
       "      <td>0</td>\n",
       "      <td>0.000000</td>\n",
       "      <td>5716.0</td>\n",
       "      <td>4</td>\n",
       "      <td>0</td>\n",
       "      <td>0</td>\n",
       "      <td>0</td>\n",
       "      <td>0.0</td>\n",
       "    </tr>\n",
       "    <tr>\n",
       "      <th>149999</th>\n",
       "      <td>150000</td>\n",
       "      <td>0</td>\n",
       "      <td>0.850283</td>\n",
       "      <td>64</td>\n",
       "      <td>0</td>\n",
       "      <td>0.249908</td>\n",
       "      <td>8158.0</td>\n",
       "      <td>8</td>\n",
       "      <td>0</td>\n",
       "      <td>2</td>\n",
       "      <td>0</td>\n",
       "      <td>0.0</td>\n",
       "    </tr>\n",
       "  </tbody>\n",
       "</table>\n",
       "</div>"
      ],
      "text/plain": [
       "        Unnamed: 0  SeriousDlqin2yrs  RevolvingUtilizationOfUnsecuredLines  \\\n",
       "149995      149996                 0                              0.040674   \n",
       "149996      149997                 0                              0.299745   \n",
       "149997      149998                 0                              0.246044   \n",
       "149998      149999                 0                              0.000000   \n",
       "149999      150000                 0                              0.850283   \n",
       "\n",
       "        age  NumberOfTime30-59DaysPastDueNotWorse    DebtRatio  MonthlyIncome  \\\n",
       "149995   74                                     0     0.225131         2100.0   \n",
       "149996   44                                     0     0.716562         5584.0   \n",
       "149997   58                                     0  3870.000000            NaN   \n",
       "149998   30                                     0     0.000000         5716.0   \n",
       "149999   64                                     0     0.249908         8158.0   \n",
       "\n",
       "        NumberOfOpenCreditLinesAndLoans  NumberOfTimes90DaysLate  \\\n",
       "149995                                4                        0   \n",
       "149996                                4                        0   \n",
       "149997                               18                        0   \n",
       "149998                                4                        0   \n",
       "149999                                8                        0   \n",
       "\n",
       "        NumberRealEstateLoansOrLines  NumberOfTime60-89DaysPastDueNotWorse  \\\n",
       "149995                             1                                     0   \n",
       "149996                             1                                     0   \n",
       "149997                             1                                     0   \n",
       "149998                             0                                     0   \n",
       "149999                             2                                     0   \n",
       "\n",
       "        NumberOfDependents  \n",
       "149995                 0.0  \n",
       "149996                 2.0  \n",
       "149997                 0.0  \n",
       "149998                 0.0  \n",
       "149999                 0.0  "
      ]
     },
     "execution_count": 44,
     "metadata": {},
     "output_type": "execute_result"
    }
   ],
   "source": [
    "data.tail()"
   ]
  },
  {
   "cell_type": "code",
   "execution_count": 45,
   "metadata": {},
   "outputs": [
    {
     "name": "stdout",
     "output_type": "stream",
     "text": [
      "<class 'pandas.core.frame.DataFrame'>\n",
      "RangeIndex: 150000 entries, 0 to 149999\n",
      "Data columns (total 12 columns):\n",
      " #   Column                                Non-Null Count   Dtype  \n",
      "---  ------                                --------------   -----  \n",
      " 0   Unnamed: 0                            150000 non-null  int64  \n",
      " 1   SeriousDlqin2yrs                      150000 non-null  int64  \n",
      " 2   RevolvingUtilizationOfUnsecuredLines  150000 non-null  float64\n",
      " 3   age                                   150000 non-null  int64  \n",
      " 4   NumberOfTime30-59DaysPastDueNotWorse  150000 non-null  int64  \n",
      " 5   DebtRatio                             150000 non-null  float64\n",
      " 6   MonthlyIncome                         120269 non-null  float64\n",
      " 7   NumberOfOpenCreditLinesAndLoans       150000 non-null  int64  \n",
      " 8   NumberOfTimes90DaysLate               150000 non-null  int64  \n",
      " 9   NumberRealEstateLoansOrLines          150000 non-null  int64  \n",
      " 10  NumberOfTime60-89DaysPastDueNotWorse  150000 non-null  int64  \n",
      " 11  NumberOfDependents                    146076 non-null  float64\n",
      "dtypes: float64(4), int64(8)\n",
      "memory usage: 13.7 MB\n"
     ]
    }
   ],
   "source": [
    "data.info()"
   ]
  },
  {
   "cell_type": "code",
   "execution_count": 46,
   "metadata": {},
   "outputs": [
    {
     "data": {
      "text/plain": [
       "Unnamed: 0                                  0\n",
       "SeriousDlqin2yrs                            0\n",
       "RevolvingUtilizationOfUnsecuredLines        0\n",
       "age                                         0\n",
       "NumberOfTime30-59DaysPastDueNotWorse        0\n",
       "DebtRatio                                   0\n",
       "MonthlyIncome                           29731\n",
       "NumberOfOpenCreditLinesAndLoans             0\n",
       "NumberOfTimes90DaysLate                     0\n",
       "NumberRealEstateLoansOrLines                0\n",
       "NumberOfTime60-89DaysPastDueNotWorse        0\n",
       "NumberOfDependents                       3924\n",
       "dtype: int64"
      ]
     },
     "execution_count": 46,
     "metadata": {},
     "output_type": "execute_result"
    }
   ],
   "source": [
    "data.isnull().sum()"
   ]
  },
  {
   "cell_type": "code",
   "execution_count": 47,
   "metadata": {},
   "outputs": [
    {
     "data": {
      "text/plain": [
       "0"
      ]
     },
     "execution_count": 47,
     "metadata": {},
     "output_type": "execute_result"
    }
   ],
   "source": [
    "data.duplicated().sum()"
   ]
  },
  {
   "cell_type": "markdown",
   "metadata": {},
   "source": [
    "# Hyperopt"
   ]
  },
  {
   "cell_type": "code",
   "execution_count": 48,
   "metadata": {},
   "outputs": [],
   "source": [
    "num_columns_1 = ['MonthlyIncome']\n",
    "num_columns_2 = ['NumberOfDependents']\n",
    "num_columns_3 = ['RevolvingUtilizationOfUnsecuredLines', 'age', 'NumberOfTime30-59DaysPastDueNotWorse', 'DebtRatio', \n",
    "                'NumberOfOpenCreditLinesAndLoans', 'NumberOfTimes90DaysLate', 'NumberRealEstateLoansOrLines', \n",
    "                'NumberOfTime60-89DaysPastDueNotWorse']"
   ]
  },
  {
   "cell_type": "code",
   "execution_count": 49,
   "metadata": {},
   "outputs": [],
   "source": [
    "X_train, X_test, y_train, y_test = train_test_split(data.drop('SeriousDlqin2yrs', axis = 1), data['SeriousDlqin2yrs'], \n",
    "                                                   test_size = 0.3, stratify = data['SeriousDlqin2yrs'],\n",
    "                                                   random_state = 42)"
   ]
  },
  {
   "cell_type": "code",
   "execution_count": 50,
   "metadata": {},
   "outputs": [],
   "source": [
    "num_pipe_1 = Pipeline([('imp', SimpleImputer(strategy = 'mean')), \n",
    "                    ('scaler', StandardScaler())])"
   ]
  },
  {
   "cell_type": "code",
   "execution_count": 51,
   "metadata": {},
   "outputs": [],
   "source": [
    "num_pipe_2 = Pipeline([('imp', SimpleImputer(strategy = 'most_frequent')), \n",
    "                    ('scaler', StandardScaler())])"
   ]
  },
  {
   "cell_type": "code",
   "execution_count": 52,
   "metadata": {},
   "outputs": [],
   "source": [
    "num_pipe_3 = Pipeline([('scaler', StandardScaler())])"
   ]
  },
  {
   "cell_type": "code",
   "execution_count": 53,
   "metadata": {},
   "outputs": [],
   "source": [
    "transformers = [('num_1', num_pipe_1, num_columns_1), ('num_2', num_pipe_2, num_columns_2), \n",
    "                ('num_3', num_pipe_3, num_columns_3)]"
   ]
  },
  {
   "cell_type": "code",
   "execution_count": 54,
   "metadata": {},
   "outputs": [],
   "source": [
    "transformer = ColumnTransformer(transformers = transformers)"
   ]
  },
  {
   "cell_type": "code",
   "execution_count": 55,
   "metadata": {},
   "outputs": [],
   "source": [
    "ml_pipe = Pipeline([('tf', transformer),\n",
    "                    ('logreg', LogisticRegression(solver = 'lbfgs', max_iter = 200))])"
   ]
  },
  {
   "cell_type": "code",
   "execution_count": 18,
   "metadata": {},
   "outputs": [],
   "source": [
    "def hyperopt_objective(params):\n",
    "    ml_pipe.set_params(**params)\n",
    "    return cross_val_score(ml_pipe, X_train, y_train, cv=5).mean()"
   ]
  },
  {
   "cell_type": "code",
   "execution_count": 19,
   "metadata": {},
   "outputs": [],
   "source": [
    "space_hyperopt = {\n",
    "    'logreg__C': hp.loguniform('logreg__C', np.log(0.01), np.log(100)),\n",
    "    'logreg__solver': hp.choice('logreg__solver', ['lbfgs', 'liblinear']),\n",
    "    'tf__num_1__imp__strategy': hp.choice(\n",
    "        'tf__num_1__imp__strategy', ['mean', 'median', 'constant']),\n",
    "    'tf__num_2__imp__strategy': hp.choice(\n",
    "        'tf__num_2__impr__strategy', ['most_frequent', 'constant'])\n",
    "}"
   ]
  },
  {
   "cell_type": "code",
   "execution_count": 20,
   "metadata": {},
   "outputs": [
    {
     "name": "stdout",
     "output_type": "stream",
     "text": [
      "100%|███████████████████████████████████████████████| 50/50 [03:03<00:00,  3.91s/trial, best loss: -0.9339714361613864]\n",
      "best:\n",
      "{'logreg__C': 1.587197399609853, 'logreg__solver': 1, 'tf__num_1__imp__strategy': 0, 'tf__num_2__impr__strategy': 0}\n"
     ]
    }
   ],
   "source": [
    "def f(params): ########\n",
    "    acc = hyperopt_objective(params) ########\n",
    "    return {'loss': -acc, 'status': STATUS_OK}\n",
    "\n",
    "best = fmin(fn=f, \n",
    "            space=space_hyperopt,\n",
    "            algo=tpe.suggest, \n",
    "            max_evals=50,\n",
    "            rstate=RandomState(123))\n",
    "\n",
    "print('best:')\n",
    "print(best)"
   ]
  },
  {
   "cell_type": "code",
   "execution_count": 21,
   "metadata": {},
   "outputs": [
    {
     "name": "stdout",
     "output_type": "stream",
     "text": [
      "[0 0 0 0 0 0 0 0 0 0]\n",
      "[[0.97245442 0.02754558]\n",
      " [0.96140841 0.03859159]\n",
      " [0.95591205 0.04408795]\n",
      " [0.95030331 0.04969669]\n",
      " [0.9725738  0.0274262 ]\n",
      " [0.91988212 0.08011788]\n",
      " [0.89942574 0.10057426]\n",
      " [0.91819734 0.08180266]\n",
      " [0.94394718 0.05605282]\n",
      " [0.95939253 0.04060747]]\n",
      "0.9338222222222222\n"
     ]
    }
   ],
   "source": [
    "best_params = space_eval(space_hyperopt, best)\n",
    "ml_pipe.set_params(**best_params)\n",
    "ml_pipe.fit(X_train, y_train)\n",
    "test_predict = ml_pipe.predict(X_test)\n",
    "test_predict_proba = ml_pipe.predict_proba(X_test)\n",
    "acc = accuracy_score(y_test, test_predict)\n",
    "print(test_predict[:10])\n",
    "print(test_predict_proba[:10])\n",
    "print(acc)"
   ]
  },
  {
   "cell_type": "markdown",
   "metadata": {},
   "source": [
    "# Skopt"
   ]
  },
  {
   "cell_type": "code",
   "execution_count": 22,
   "metadata": {},
   "outputs": [],
   "source": [
    "from skopt import BayesSearchCV, gp_minimize\n",
    "from skopt.space import Real, Categorical, Integer"
   ]
  },
  {
   "cell_type": "code",
   "execution_count": 23,
   "metadata": {},
   "outputs": [],
   "source": [
    "space_skopt = {'logreg__C': Real(np.log10(1.01), np.log10(100), 'log_uniform'),\n",
    "    'logreg__solver': Categorical(['lbfgs', 'liblinear']),\n",
    "    'tf__num_1__imp__strategy': Categorical(['mean', 'median', 'constant']),\n",
    "    'tf__num_2__imp__strategy': Categorical(['most_frequent', 'constant'])}"
   ]
  },
  {
   "cell_type": "code",
   "execution_count": 24,
   "metadata": {},
   "outputs": [
    {
     "name": "stdout",
     "output_type": "stream",
     "text": [
      "best_score: 0.9339428571428572\n"
     ]
    }
   ],
   "source": [
    "opt = BayesSearchCV(ml_pipe,\n",
    "                    space_skopt,\n",
    "                    n_iter=10,\n",
    "                    random_state=42,\n",
    "                    cv=5)\n",
    "opt.fit(X_train, y_train)\n",
    "print('best_score:', opt.best_score_)"
   ]
  },
  {
   "cell_type": "code",
   "execution_count": 25,
   "metadata": {},
   "outputs": [
    {
     "name": "stdout",
     "output_type": "stream",
     "text": [
      "                                                                                                    mean_test_score\n",
      "param_logreg__C param_logreg__solver param_tf__num_1__imp__strategy param_tf__num_2__imp__strategy                 \n",
      "0.004419        liblinear            constant                       most_frequent                          0.933295\n",
      "0.053545        liblinear            constant                       most_frequent                          0.933638\n",
      "0.066265        liblinear            mean                           most_frequent                          0.933705\n",
      "0.121342        liblinear            median                         constant                               0.933790\n",
      "0.190717        liblinear            median                         constant                               0.933886\n",
      "0.390936        liblinear            mean                           most_frequent                          0.933933\n",
      "0.584464        lbfgs                median                         constant                               0.933943\n",
      "0.632395        lbfgs                median                         constant                               0.933933\n",
      "0.737231        liblinear            mean                           constant                               0.933933\n",
      "1.521811        liblinear            constant                       most_frequent                          0.933895\n"
     ]
    }
   ],
   "source": [
    "results = pd.DataFrame(opt.cv_results_)\n",
    "tbl = results.pivot_table(values=['mean_test_score'],    \n",
    "                          index=['param_logreg__C', \n",
    "                                 'param_logreg__solver',\n",
    "                                 'param_tf__num_1__imp__strategy',\n",
    "                                 'param_tf__num_2__imp__strategy'])\n",
    "print(tbl)"
   ]
  },
  {
   "cell_type": "code",
   "execution_count": 26,
   "metadata": {},
   "outputs": [
    {
     "name": "stdout",
     "output_type": "stream",
     "text": [
      "0.9339428571428572\n",
      "OrderedDict([('logreg__C', 0.5844644531295251), ('logreg__solver', 'lbfgs'), ('tf__num_1__imp__strategy', 'median'), ('tf__num_2__imp__strategy', 'constant')])\n",
      "0.9338222222222222\n"
     ]
    }
   ],
   "source": [
    "print(opt.best_score_) #повторно\n",
    "print(opt.best_params_)\n",
    "print(opt.score(X_test, y_test))"
   ]
  },
  {
   "cell_type": "code",
   "execution_count": 27,
   "metadata": {},
   "outputs": [
    {
     "name": "stdout",
     "output_type": "stream",
     "text": [
      "0.9338222222222222\n"
     ]
    }
   ],
   "source": [
    "# Перепроверка. Расчет с другой стороны\n",
    "best_params_skopt = opt.best_params_\n",
    "\n",
    "ml_pipe.set_params(**best_params_skopt)\n",
    "ml_pipe.fit(X_train, y_train)\n",
    "\n",
    "test_predict = ml_pipe.predict(X_test)\n",
    "\n",
    "acc = accuracy_score(y_test, test_predict)\n",
    "print(acc)"
   ]
  },
  {
   "cell_type": "code",
   "execution_count": 28,
   "metadata": {},
   "outputs": [],
   "source": [
    "#Поиск с помощью декоратора @use_named_args\n",
    "from skopt.utils import use_named_args"
   ]
  },
  {
   "cell_type": "code",
   "execution_count": 30,
   "metadata": {},
   "outputs": [],
   "source": [
    "space_skopt2 = [\n",
    "    Real(np.log10(1.01), np.log10(100), name = 'logreg__C'),\n",
    "    Categorical(['lbfgs', 'liblinear'], name = 'logreg__solver'),\n",
    "    Categorical(['mean', 'median', 'constant'], name = 'tf__num_1__imp__strategy'),\n",
    "    Categorical(['most_frequent', 'constant'], name = 'tf__num_2__imp__strategy')\n",
    "]"
   ]
  },
  {
   "cell_type": "code",
   "execution_count": 33,
   "metadata": {},
   "outputs": [],
   "source": [
    "# пишем функцию, возвращающую правильность,\n",
    "# усредненную по итогам перекрестной проверки\n",
    "@use_named_args(space_skopt2)\n",
    "def objective(**params):\n",
    "    ml_pipe.set_params(**params)\n",
    "    return -np.mean(cross_val_score(ml_pipe,\n",
    "                                    X_train,\n",
    "                                    y_train,\n",
    "                                    cv=5,\n",
    "                                    n_jobs=-1))"
   ]
  },
  {
   "cell_type": "code",
   "execution_count": 34,
   "metadata": {},
   "outputs": [],
   "source": [
    "res = gp_minimize(objective, space_skopt2, n_calls=10, random_state=42)"
   ]
  },
  {
   "cell_type": "code",
   "execution_count": 36,
   "metadata": {},
   "outputs": [
    {
     "name": "stdout",
     "output_type": "stream",
     "text": [
      "Наилучшее значение AUC: 0.9340\n"
     ]
    },
    {
     "data": {
      "text/html": [
       "<div>\n",
       "<style scoped>\n",
       "    .dataframe tbody tr th:only-of-type {\n",
       "        vertical-align: middle;\n",
       "    }\n",
       "\n",
       "    .dataframe tbody tr th {\n",
       "        vertical-align: top;\n",
       "    }\n",
       "\n",
       "    .dataframe thead th {\n",
       "        text-align: right;\n",
       "    }\n",
       "</style>\n",
       "<table border=\"1\" class=\"dataframe\">\n",
       "  <thead>\n",
       "    <tr style=\"text-align: right;\">\n",
       "      <th></th>\n",
       "      <th>logreg__C</th>\n",
       "      <th>logreg__solver</th>\n",
       "      <th>tf__num_1__imp__strategy</th>\n",
       "      <th>tf__num_2__imp__strategy</th>\n",
       "    </tr>\n",
       "  </thead>\n",
       "  <tbody>\n",
       "    <tr>\n",
       "      <th>0</th>\n",
       "      <td>1.224985</td>\n",
       "      <td>lbfgs</td>\n",
       "      <td>mean</td>\n",
       "      <td>constant</td>\n",
       "    </tr>\n",
       "  </tbody>\n",
       "</table>\n",
       "</div>"
      ],
      "text/plain": [
       "   logreg__C logreg__solver tf__num_1__imp__strategy tf__num_2__imp__strategy\n",
       "0   1.224985          lbfgs                     mean                 constant"
      ]
     },
     "execution_count": 36,
     "metadata": {},
     "output_type": "execute_result"
    }
   ],
   "source": [
    "# смотрим наилучшее значение\n",
    "print('Наилучшее значение AUC: {:.4f}'.format(np.abs(res.fun)))### Why AUC?\n",
    "# смотрим наилучшие гиперпараметры\n",
    "pd.DataFrame({'logreg__C': pd.Series(res.x[0]),\n",
    "              'logreg__solver': pd.Series(res.x[1]),\n",
    "              'tf__num_1__imp__strategy': pd.Series(res.x[2]),\n",
    "              'tf__num_2__imp__strategy': pd.Series(res.x[3])})"
   ]
  },
  {
   "cell_type": "markdown",
   "metadata": {},
   "source": [
    "# Optuna"
   ]
  },
  {
   "cell_type": "code",
   "execution_count": 59,
   "metadata": {},
   "outputs": [
    {
     "ename": "AttributeError",
     "evalue": "module 'optuna' has no attribute 'structs'",
     "output_type": "error",
     "traceback": [
      "\u001b[1;31m---------------------------------------------------------------------------\u001b[0m",
      "\u001b[1;31mAttributeError\u001b[0m                            Traceback (most recent call last)",
      "\u001b[1;32m<ipython-input-59-deb984238a1b>\u001b[0m in \u001b[0;36m<module>\u001b[1;34m()\u001b[0m\n\u001b[1;32m----> 1\u001b[1;33m \u001b[1;32mimport\u001b[0m \u001b[0moptuna\u001b[0m\u001b[1;33m\u001b[0m\u001b[0m\n\u001b[0m",
      "\u001b[1;32m~\\Anaconda3\\envs\\py36\\lib\\site-packages\\optuna\\__init__.py\u001b[0m in \u001b[0;36m<module>\u001b[1;34m()\u001b[0m\n\u001b[1;32m----> 1\u001b[1;33m \u001b[1;32mfrom\u001b[0m \u001b[0moptuna\u001b[0m \u001b[1;32mimport\u001b[0m \u001b[0mdashboard\u001b[0m  \u001b[1;31m# NOQA\u001b[0m\u001b[1;33m\u001b[0m\u001b[0m\n\u001b[0m\u001b[0;32m      2\u001b[0m \u001b[1;32mfrom\u001b[0m \u001b[0moptuna\u001b[0m \u001b[1;32mimport\u001b[0m \u001b[0mdistributions\u001b[0m  \u001b[1;31m# NOQA\u001b[0m\u001b[1;33m\u001b[0m\u001b[0m\n\u001b[0;32m      3\u001b[0m \u001b[1;32mfrom\u001b[0m \u001b[0moptuna\u001b[0m \u001b[1;32mimport\u001b[0m \u001b[0mexceptions\u001b[0m  \u001b[1;31m# NOQA\u001b[0m\u001b[1;33m\u001b[0m\u001b[0m\n\u001b[0;32m      4\u001b[0m \u001b[1;32mfrom\u001b[0m \u001b[0moptuna\u001b[0m \u001b[1;32mimport\u001b[0m \u001b[0mimportance\u001b[0m  \u001b[1;31m# NOQA\u001b[0m\u001b[1;33m\u001b[0m\u001b[0m\n\u001b[0;32m      5\u001b[0m \u001b[1;32mfrom\u001b[0m \u001b[0moptuna\u001b[0m \u001b[1;32mimport\u001b[0m \u001b[0mintegration\u001b[0m  \u001b[1;31m# NOQA\u001b[0m\u001b[1;33m\u001b[0m\u001b[0m\n",
      "\u001b[1;32m~\\Anaconda3\\envs\\py36\\lib\\site-packages\\optuna\\dashboard.py\u001b[0m in \u001b[0;36m<module>\u001b[1;34m()\u001b[0m\n\u001b[0;32m     22\u001b[0m \u001b[1;32mimport\u001b[0m \u001b[0moptuna\u001b[0m\u001b[1;33m.\u001b[0m\u001b[0mlogging\u001b[0m\u001b[1;33m\u001b[0m\u001b[0m\n\u001b[0;32m     23\u001b[0m \u001b[1;32mimport\u001b[0m \u001b[0moptuna\u001b[0m\u001b[1;33m.\u001b[0m\u001b[0mstructs\u001b[0m\u001b[1;33m\u001b[0m\u001b[0m\n\u001b[1;32m---> 24\u001b[1;33m \u001b[1;32mimport\u001b[0m \u001b[0moptuna\u001b[0m\u001b[1;33m.\u001b[0m\u001b[0mstudy\u001b[0m\u001b[1;33m\u001b[0m\u001b[0m\n\u001b[0m\u001b[0;32m     25\u001b[0m \u001b[1;32mfrom\u001b[0m \u001b[0moptuna\u001b[0m \u001b[1;32mimport\u001b[0m \u001b[0mtype_checking\u001b[0m\u001b[1;33m\u001b[0m\u001b[0m\n\u001b[0;32m     26\u001b[0m \u001b[1;33m\u001b[0m\u001b[0m\n",
      "\u001b[1;32m~\\Anaconda3\\envs\\py36\\lib\\site-packages\\optuna\\study.py\u001b[0m in \u001b[0;36m<module>\u001b[1;34m()\u001b[0m\n\u001b[0;32m     24\u001b[0m \u001b[1;32mfrom\u001b[0m \u001b[0moptuna\u001b[0m \u001b[1;32mimport\u001b[0m \u001b[0mlogging\u001b[0m\u001b[1;33m\u001b[0m\u001b[0m\n\u001b[0;32m     25\u001b[0m \u001b[1;32mfrom\u001b[0m \u001b[0moptuna\u001b[0m \u001b[1;32mimport\u001b[0m \u001b[0mprogress_bar\u001b[0m \u001b[1;32mas\u001b[0m \u001b[0mpbar_module\u001b[0m\u001b[1;33m\u001b[0m\u001b[0m\n\u001b[1;32m---> 26\u001b[1;33m \u001b[1;32mfrom\u001b[0m \u001b[0moptuna\u001b[0m \u001b[1;32mimport\u001b[0m \u001b[0mpruners\u001b[0m\u001b[1;33m\u001b[0m\u001b[0m\n\u001b[0m\u001b[0;32m     27\u001b[0m \u001b[1;32mfrom\u001b[0m \u001b[0moptuna\u001b[0m \u001b[1;32mimport\u001b[0m \u001b[0msamplers\u001b[0m\u001b[1;33m\u001b[0m\u001b[0m\n\u001b[0;32m     28\u001b[0m \u001b[1;32mfrom\u001b[0m \u001b[0moptuna\u001b[0m \u001b[1;32mimport\u001b[0m \u001b[0mstorages\u001b[0m\u001b[1;33m\u001b[0m\u001b[0m\n",
      "\u001b[1;32m~\\Anaconda3\\envs\\py36\\lib\\site-packages\\optuna\\pruners\\__init__.py\u001b[0m in \u001b[0;36m<module>\u001b[1;34m()\u001b[0m\n\u001b[0;32m      5\u001b[0m \u001b[1;32mfrom\u001b[0m \u001b[0moptuna\u001b[0m\u001b[1;33m.\u001b[0m\u001b[0mpruners\u001b[0m\u001b[1;33m.\u001b[0m\u001b[0mpercentile\u001b[0m \u001b[1;32mimport\u001b[0m \u001b[0mPercentilePruner\u001b[0m  \u001b[1;31m# NOQA\u001b[0m\u001b[1;33m\u001b[0m\u001b[0m\n\u001b[0;32m      6\u001b[0m \u001b[1;32mfrom\u001b[0m \u001b[0moptuna\u001b[0m\u001b[1;33m.\u001b[0m\u001b[0mpruners\u001b[0m\u001b[1;33m.\u001b[0m\u001b[0msuccessive_halving\u001b[0m \u001b[1;32mimport\u001b[0m \u001b[0mSuccessiveHalvingPruner\u001b[0m  \u001b[1;31m# NOQA\u001b[0m\u001b[1;33m\u001b[0m\u001b[0m\n\u001b[1;32m----> 7\u001b[1;33m \u001b[1;32mfrom\u001b[0m \u001b[0moptuna\u001b[0m\u001b[1;33m.\u001b[0m\u001b[0mpruners\u001b[0m\u001b[1;33m.\u001b[0m\u001b[0mthreshold\u001b[0m \u001b[1;32mimport\u001b[0m \u001b[0mThresholdPruner\u001b[0m  \u001b[1;31m# NOQA\u001b[0m\u001b[1;33m\u001b[0m\u001b[0m\n\u001b[0m",
      "\u001b[1;32m~\\Anaconda3\\envs\\py36\\lib\\site-packages\\optuna\\pruners\\threshold.py\u001b[0m in \u001b[0;36m<module>\u001b[1;34m()\u001b[0m\n\u001b[0;32m     21\u001b[0m \u001b[1;33m\u001b[0m\u001b[0m\n\u001b[0;32m     22\u001b[0m \u001b[1;33m\u001b[0m\u001b[0m\n\u001b[1;32m---> 23\u001b[1;33m \u001b[1;32mclass\u001b[0m \u001b[0mThresholdPruner\u001b[0m\u001b[1;33m(\u001b[0m\u001b[0mBasePruner\u001b[0m\u001b[1;33m)\u001b[0m\u001b[1;33m:\u001b[0m\u001b[1;33m\u001b[0m\u001b[0m\n\u001b[0m\u001b[0;32m     24\u001b[0m     \"\"\"Pruner to detect outlying metrics of the trials.\n\u001b[0;32m     25\u001b[0m \u001b[1;33m\u001b[0m\u001b[0m\n",
      "\u001b[1;32m~\\Anaconda3\\envs\\py36\\lib\\site-packages\\optuna\\pruners\\threshold.py\u001b[0m in \u001b[0;36mThresholdPruner\u001b[1;34m()\u001b[0m\n\u001b[0;32m    112\u001b[0m         \u001b[0mself\u001b[0m\u001b[1;33m.\u001b[0m\u001b[0m_interval_steps\u001b[0m \u001b[1;33m=\u001b[0m \u001b[0minterval_steps\u001b[0m\u001b[1;33m\u001b[0m\u001b[0m\n\u001b[0;32m    113\u001b[0m \u001b[1;33m\u001b[0m\u001b[0m\n\u001b[1;32m--> 114\u001b[1;33m     \u001b[1;32mdef\u001b[0m \u001b[0mprune\u001b[0m\u001b[1;33m(\u001b[0m\u001b[0mself\u001b[0m\u001b[1;33m,\u001b[0m \u001b[0mstudy\u001b[0m\u001b[1;33m:\u001b[0m \u001b[1;34m\"optuna.study.Study\"\u001b[0m\u001b[1;33m,\u001b[0m \u001b[0mtrial\u001b[0m\u001b[1;33m:\u001b[0m \u001b[0moptuna\u001b[0m\u001b[1;33m.\u001b[0m\u001b[0mstructs\u001b[0m\u001b[1;33m.\u001b[0m\u001b[0mFrozenTrial\u001b[0m\u001b[1;33m)\u001b[0m \u001b[1;33m->\u001b[0m \u001b[0mbool\u001b[0m\u001b[1;33m:\u001b[0m\u001b[1;33m\u001b[0m\u001b[0m\n\u001b[0m\u001b[0;32m    115\u001b[0m \u001b[1;33m\u001b[0m\u001b[0m\n\u001b[0;32m    116\u001b[0m         \u001b[0mstep\u001b[0m \u001b[1;33m=\u001b[0m \u001b[0mtrial\u001b[0m\u001b[1;33m.\u001b[0m\u001b[0mlast_step\u001b[0m\u001b[1;33m\u001b[0m\u001b[0m\n",
      "\u001b[1;31mAttributeError\u001b[0m: module 'optuna' has no attribute 'structs'"
     ]
    }
   ],
   "source": [
    "import optuna"
   ]
  },
  {
   "cell_type": "code",
   "execution_count": null,
   "metadata": {},
   "outputs": [],
   "source": []
  }
 ],
 "metadata": {
  "kernelspec": {
   "display_name": "Python 3",
   "language": "python",
   "name": "python3"
  },
  "language_info": {
   "codemirror_mode": {
    "name": "ipython",
    "version": 3
   },
   "file_extension": ".py",
   "mimetype": "text/x-python",
   "name": "python",
   "nbconvert_exporter": "python",
   "pygments_lexer": "ipython3",
   "version": "3.6.6"
  }
 },
 "nbformat": 4,
 "nbformat_minor": 2
}
