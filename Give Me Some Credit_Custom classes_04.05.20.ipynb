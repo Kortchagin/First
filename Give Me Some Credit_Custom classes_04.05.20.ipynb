{
 "cells": [
  {
   "cell_type": "markdown",
   "metadata": {},
   "source": [
    "# Task 04.05.20 Give Me Some Credit. Custom classes"
   ]
  },
  {
   "cell_type": "code",
   "execution_count": 37,
   "metadata": {},
   "outputs": [],
   "source": [
    "#Выбросы (взгляд из Excel)\n",
    "#NumberOfTime30-59DaysPastDueNotWorse, NumberOfTimes90DaysLate, NumberOfTime60-89DaysPastDueNotWorse = 96 или 98\n",
    "#Очень большой DebtRatio, как правило, при MonthlyIncome = NA или 0. Импутация MonthlyIncome ситуацию не исправит, \n",
    "#т.к. не приведёт к пересчету DebtRatio.\n",
    "#И пр.\n"
   ]
  },
  {
   "cell_type": "code",
   "execution_count": 38,
   "metadata": {},
   "outputs": [],
   "source": [
    "import os\n",
    "import numpy as np\n",
    "import pandas as pd\n",
    "from sklearn.model_selection import train_test_split\n",
    "from sklearn.base import BaseEstimator, TransformerMixin\n",
    "from sklearn.impute import SimpleImputer\n",
    "from sklearn.preprocessing import PowerTransformer, StandardScaler, OneHotEncoder\n",
    "from sklearn.compose import ColumnTransformer\n",
    "from sklearn.linear_model import LogisticRegression\n",
    "from sklearn.metrics import accuracy_score, roc_auc_score\n",
    "from sklearn.pipeline import Pipeline\n",
    "from sklearn.model_selection import GridSearchCV\n",
    "import matplotlib.pyplot as plt\n",
    "%matplotlib inline"
   ]
  },
  {
   "cell_type": "code",
   "execution_count": 39,
   "metadata": {},
   "outputs": [
    {
     "data": {
      "text/plain": [
       "'D:\\\\ML\\\\Gewissta\\\\My course\\\\GiveMeSomeCredit'"
      ]
     },
     "execution_count": 39,
     "metadata": {},
     "output_type": "execute_result"
    }
   ],
   "source": [
    "os.getcwd()"
   ]
  },
  {
   "cell_type": "code",
   "execution_count": 40,
   "metadata": {},
   "outputs": [],
   "source": [
    "os.chdir('D:\\\\ML\\\\Gewissta\\\\My course\\\\GiveMeSomeCredit')"
   ]
  },
  {
   "cell_type": "code",
   "execution_count": 41,
   "metadata": {},
   "outputs": [],
   "source": [
    "data = pd.read_csv('cs-training.csv', sep = ',')"
   ]
  },
  {
   "cell_type": "code",
   "execution_count": 42,
   "metadata": {},
   "outputs": [
    {
     "data": {
      "text/html": [
       "<div>\n",
       "<style scoped>\n",
       "    .dataframe tbody tr th:only-of-type {\n",
       "        vertical-align: middle;\n",
       "    }\n",
       "\n",
       "    .dataframe tbody tr th {\n",
       "        vertical-align: top;\n",
       "    }\n",
       "\n",
       "    .dataframe thead th {\n",
       "        text-align: right;\n",
       "    }\n",
       "</style>\n",
       "<table border=\"1\" class=\"dataframe\">\n",
       "  <thead>\n",
       "    <tr style=\"text-align: right;\">\n",
       "      <th></th>\n",
       "      <th>Unnamed: 0</th>\n",
       "      <th>SeriousDlqin2yrs</th>\n",
       "      <th>RevolvingUtilizationOfUnsecuredLines</th>\n",
       "      <th>age</th>\n",
       "      <th>NumberOfTime30-59DaysPastDueNotWorse</th>\n",
       "      <th>DebtRatio</th>\n",
       "      <th>MonthlyIncome</th>\n",
       "      <th>NumberOfOpenCreditLinesAndLoans</th>\n",
       "      <th>NumberOfTimes90DaysLate</th>\n",
       "      <th>NumberRealEstateLoansOrLines</th>\n",
       "      <th>NumberOfTime60-89DaysPastDueNotWorse</th>\n",
       "      <th>NumberOfDependents</th>\n",
       "    </tr>\n",
       "  </thead>\n",
       "  <tbody>\n",
       "    <tr>\n",
       "      <th>149995</th>\n",
       "      <td>149996</td>\n",
       "      <td>0</td>\n",
       "      <td>0.040674</td>\n",
       "      <td>74</td>\n",
       "      <td>0</td>\n",
       "      <td>0.225131</td>\n",
       "      <td>2100.0</td>\n",
       "      <td>4</td>\n",
       "      <td>0</td>\n",
       "      <td>1</td>\n",
       "      <td>0</td>\n",
       "      <td>0.0</td>\n",
       "    </tr>\n",
       "    <tr>\n",
       "      <th>149996</th>\n",
       "      <td>149997</td>\n",
       "      <td>0</td>\n",
       "      <td>0.299745</td>\n",
       "      <td>44</td>\n",
       "      <td>0</td>\n",
       "      <td>0.716562</td>\n",
       "      <td>5584.0</td>\n",
       "      <td>4</td>\n",
       "      <td>0</td>\n",
       "      <td>1</td>\n",
       "      <td>0</td>\n",
       "      <td>2.0</td>\n",
       "    </tr>\n",
       "    <tr>\n",
       "      <th>149997</th>\n",
       "      <td>149998</td>\n",
       "      <td>0</td>\n",
       "      <td>0.246044</td>\n",
       "      <td>58</td>\n",
       "      <td>0</td>\n",
       "      <td>3870.000000</td>\n",
       "      <td>NaN</td>\n",
       "      <td>18</td>\n",
       "      <td>0</td>\n",
       "      <td>1</td>\n",
       "      <td>0</td>\n",
       "      <td>0.0</td>\n",
       "    </tr>\n",
       "    <tr>\n",
       "      <th>149998</th>\n",
       "      <td>149999</td>\n",
       "      <td>0</td>\n",
       "      <td>0.000000</td>\n",
       "      <td>30</td>\n",
       "      <td>0</td>\n",
       "      <td>0.000000</td>\n",
       "      <td>5716.0</td>\n",
       "      <td>4</td>\n",
       "      <td>0</td>\n",
       "      <td>0</td>\n",
       "      <td>0</td>\n",
       "      <td>0.0</td>\n",
       "    </tr>\n",
       "    <tr>\n",
       "      <th>149999</th>\n",
       "      <td>150000</td>\n",
       "      <td>0</td>\n",
       "      <td>0.850283</td>\n",
       "      <td>64</td>\n",
       "      <td>0</td>\n",
       "      <td>0.249908</td>\n",
       "      <td>8158.0</td>\n",
       "      <td>8</td>\n",
       "      <td>0</td>\n",
       "      <td>2</td>\n",
       "      <td>0</td>\n",
       "      <td>0.0</td>\n",
       "    </tr>\n",
       "  </tbody>\n",
       "</table>\n",
       "</div>"
      ],
      "text/plain": [
       "        Unnamed: 0  SeriousDlqin2yrs  RevolvingUtilizationOfUnsecuredLines  \\\n",
       "149995      149996                 0                              0.040674   \n",
       "149996      149997                 0                              0.299745   \n",
       "149997      149998                 0                              0.246044   \n",
       "149998      149999                 0                              0.000000   \n",
       "149999      150000                 0                              0.850283   \n",
       "\n",
       "        age  NumberOfTime30-59DaysPastDueNotWorse    DebtRatio  MonthlyIncome  \\\n",
       "149995   74                                     0     0.225131         2100.0   \n",
       "149996   44                                     0     0.716562         5584.0   \n",
       "149997   58                                     0  3870.000000            NaN   \n",
       "149998   30                                     0     0.000000         5716.0   \n",
       "149999   64                                     0     0.249908         8158.0   \n",
       "\n",
       "        NumberOfOpenCreditLinesAndLoans  NumberOfTimes90DaysLate  \\\n",
       "149995                                4                        0   \n",
       "149996                                4                        0   \n",
       "149997                               18                        0   \n",
       "149998                                4                        0   \n",
       "149999                                8                        0   \n",
       "\n",
       "        NumberRealEstateLoansOrLines  NumberOfTime60-89DaysPastDueNotWorse  \\\n",
       "149995                             1                                     0   \n",
       "149996                             1                                     0   \n",
       "149997                             1                                     0   \n",
       "149998                             0                                     0   \n",
       "149999                             2                                     0   \n",
       "\n",
       "        NumberOfDependents  \n",
       "149995                 0.0  \n",
       "149996                 2.0  \n",
       "149997                 0.0  \n",
       "149998                 0.0  \n",
       "149999                 0.0  "
      ]
     },
     "execution_count": 42,
     "metadata": {},
     "output_type": "execute_result"
    }
   ],
   "source": [
    "data.tail()"
   ]
  },
  {
   "cell_type": "code",
   "execution_count": 43,
   "metadata": {},
   "outputs": [
    {
     "name": "stdout",
     "output_type": "stream",
     "text": [
      "<class 'pandas.core.frame.DataFrame'>\n",
      "RangeIndex: 150000 entries, 0 to 149999\n",
      "Data columns (total 12 columns):\n",
      " #   Column                                Non-Null Count   Dtype  \n",
      "---  ------                                --------------   -----  \n",
      " 0   Unnamed: 0                            150000 non-null  int64  \n",
      " 1   SeriousDlqin2yrs                      150000 non-null  int64  \n",
      " 2   RevolvingUtilizationOfUnsecuredLines  150000 non-null  float64\n",
      " 3   age                                   150000 non-null  int64  \n",
      " 4   NumberOfTime30-59DaysPastDueNotWorse  150000 non-null  int64  \n",
      " 5   DebtRatio                             150000 non-null  float64\n",
      " 6   MonthlyIncome                         120269 non-null  float64\n",
      " 7   NumberOfOpenCreditLinesAndLoans       150000 non-null  int64  \n",
      " 8   NumberOfTimes90DaysLate               150000 non-null  int64  \n",
      " 9   NumberRealEstateLoansOrLines          150000 non-null  int64  \n",
      " 10  NumberOfTime60-89DaysPastDueNotWorse  150000 non-null  int64  \n",
      " 11  NumberOfDependents                    146076 non-null  float64\n",
      "dtypes: float64(4), int64(8)\n",
      "memory usage: 13.7 MB\n"
     ]
    }
   ],
   "source": [
    "data.info()"
   ]
  },
  {
   "cell_type": "code",
   "execution_count": 44,
   "metadata": {},
   "outputs": [
    {
     "data": {
      "text/plain": [
       "Unnamed: 0                                  0\n",
       "SeriousDlqin2yrs                            0\n",
       "RevolvingUtilizationOfUnsecuredLines        0\n",
       "age                                         0\n",
       "NumberOfTime30-59DaysPastDueNotWorse        0\n",
       "DebtRatio                                   0\n",
       "MonthlyIncome                           29731\n",
       "NumberOfOpenCreditLinesAndLoans             0\n",
       "NumberOfTimes90DaysLate                     0\n",
       "NumberRealEstateLoansOrLines                0\n",
       "NumberOfTime60-89DaysPastDueNotWorse        0\n",
       "NumberOfDependents                       3924\n",
       "dtype: int64"
      ]
     },
     "execution_count": 44,
     "metadata": {},
     "output_type": "execute_result"
    }
   ],
   "source": [
    "data.isnull().sum()"
   ]
  },
  {
   "cell_type": "code",
   "execution_count": 45,
   "metadata": {},
   "outputs": [
    {
     "data": {
      "text/plain": [
       "0"
      ]
     },
     "execution_count": 45,
     "metadata": {},
     "output_type": "execute_result"
    }
   ],
   "source": [
    "data.duplicated().sum()"
   ]
  },
  {
   "cell_type": "code",
   "execution_count": 46,
   "metadata": {},
   "outputs": [],
   "source": [
    "num_columns_1 = ['MonthlyIncome']\n",
    "num_columns_2 = ['NumberOfDependents']\n",
    "num_columns_age = ['age']\n",
    "num_columns_3 = ['RevolvingUtilizationOfUnsecuredLines', 'NumberOfTime30-59DaysPastDueNotWorse', 'DebtRatio', \n",
    "                'NumberOfOpenCreditLinesAndLoans', 'NumberOfTimes90DaysLate', 'NumberRealEstateLoansOrLines', \n",
    "                'NumberOfTime60-89DaysPastDueNotWorse']"
   ]
  },
  {
   "cell_type": "code",
   "execution_count": 47,
   "metadata": {},
   "outputs": [],
   "source": [
    "X_train, X_test, y_train, y_test = train_test_split(data.drop('SeriousDlqin2yrs', axis = 1), \n",
    "                                                    data['SeriousDlqin2yrs'], \n",
    "                                                    test_size = 0.3, \n",
    "                                                    stratify = data['SeriousDlqin2yrs'],\n",
    "                                                    random_state = 42)"
   ]
  },
  {
   "cell_type": "code",
   "execution_count": 48,
   "metadata": {},
   "outputs": [],
   "source": [
    "# создаем собственный класс, выполняющий скорректированное \n",
    "# логарифмическое преобразование\n",
    "class CorrLog(BaseEstimator, TransformerMixin):\n",
    "    \"\"\"\n",
    "    Параметры:\n",
    "    lower: задает нижнее пороговое значение\n",
    "    k: задает корректировку асимметрии\n",
    "    copy: возвращает копию\n",
    "    \"\"\"\n",
    "    def __init__(self, lower=0.001, k=0.2, copy=True):\n",
    "        # все параметры для инициализации публичных атрибутов \n",
    "        # должны быть заданы в методе __init__\n",
    "        \n",
    "        # публичные атрибуты\n",
    "        self.lower = lower\n",
    "        self.k = k\n",
    "        self.copy = copy\n",
    "                \n",
    "    def fit(self, X, y=None):\n",
    "        # fit должен принимать в качестве аргументов только X и y\n",
    "        # даже если ваша модель является моделью машинного обучения \n",
    "        # без учителя, вы должны принять аргумент y, это требуется \n",
    "        # для совместимости с конвейерами!\n",
    "        \n",
    "        # обучение модели осуществляется прямо здесь\n",
    "        \n",
    "        # создаем пустой словарь, в котором ключами\n",
    "        # будут имена/целые числа, а значениями - средние\n",
    "        self._encoder_dict = {}\n",
    "        \n",
    "        # функция isinstance() проверяет, является ли\n",
    "        # объект датафреймом pandas или нет\n",
    "        if isinstance(X, pd.DataFrame):\n",
    "            for col in X.columns:\n",
    "                # вычисляем среднее и записываем в словарь\n",
    "                self._encoder_dict[col] = np.mean(X[col])\n",
    "        else:\n",
    "            for col in range(X.shape[1]):\n",
    "                # вычисляем среднее и записываем в словарь\n",
    "                self._encoder_dict[col] = np.mean(X[:, col])\n",
    "            \n",
    "        # fit возвращает self\n",
    "        return self\n",
    "    \n",
    "    def transform(self, X):\n",
    "        # transform принимает в качестве аргумента только X\n",
    "        \n",
    "        # выполняем копирование массива во избежание предупреждения SettingWithCopyWarning\n",
    "        # \"A value is trying to be set on a copy of a slice from a DataFrame (Происходит \n",
    "        # попытка изменить значение в копии среза данных датафрейма)\"\n",
    "        if self.copy:\n",
    "            X = X.copy()\n",
    "        \n",
    "        # применяем преобразование к X\n",
    "        if isinstance(X, pd.DataFrame):\n",
    "            for col in X.columns:\n",
    "                X[col] = np.log(np.clip(X[col], self.lower, None) / self._encoder_dict[col] + self.k)\n",
    "        else:    \n",
    "            for col in range(X.shape[1]):\n",
    "                X[:, col] = np.log(np.clip(X[:, col], self.lower, None) / self._encoder_dict[col] + self.k)\n",
    "                           \n",
    "        return X"
   ]
  },
  {
   "cell_type": "code",
   "execution_count": 49,
   "metadata": {},
   "outputs": [],
   "source": [
    "# создаем собственный класс, заменяющий отрицательные\n",
    "# и нулевые значения на небольшие положительные\n",
    "class Replacer(BaseEstimator, TransformerMixin):\n",
    "    \"\"\"\n",
    "    Параметры:\n",
    "        repl_value: значение для замены.\n",
    "    \"\"\"\n",
    "    def __init__(self, repl_value=0.1):\n",
    "        self.repl_value = repl_value\n",
    "        \n",
    "    def fit(self, X, y=None):\n",
    "        # fit здесь бездельничает\n",
    "        return self\n",
    "    \n",
    "    def transform(self, X):\n",
    "        # transform выполняет всю работу: применяет преобразование \n",
    "        # с помощью заданного значения параметра repl_value\n",
    "        X_replaced = np.where(X <= 0, self.repl_value, X)\n",
    "        return X_replaced"
   ]
  },
  {
   "cell_type": "code",
   "execution_count": 50,
   "metadata": {},
   "outputs": [],
   "source": [
    "# создаем собственный класс, выполняющий биннинг\n",
    "class CustomBinning(BaseEstimator, TransformerMixin):\n",
    "    \"\"\"\n",
    "    Параметры:\n",
    "        bins: список бинов.\n",
    "    \"\"\"\n",
    "    def __init__(self, bins=[-np.inf,  2, 4, np.inf]):\n",
    "        self.bins = bins\n",
    "    \n",
    "    def fit(self, X, y=None):\n",
    "        # fit опять бездельничает\n",
    "        return self\n",
    "    \n",
    "    def transform(self, X):\n",
    "        bins = np.array(self.bins)\n",
    "         # transform выполняет всю работу: применяет преобразование \n",
    "        # с помощью заданного значения параметра bins\n",
    "        X_bin = np.digitize(X, bins)\n",
    "        return X_bin"
   ]
  },
  {
   "cell_type": "code",
   "execution_count": 51,
   "metadata": {},
   "outputs": [],
   "source": [
    "num_pipe_1 = Pipeline([('imp', SimpleImputer(strategy = 'mean')),\n",
    "                     ('corrlog', CorrLog(k=0.001)),\n",
    "                     ('scaler', StandardScaler())])"
   ]
  },
  {
   "cell_type": "code",
   "execution_count": 52,
   "metadata": {},
   "outputs": [],
   "source": [
    "num_pipe_2 = Pipeline([('imp', SimpleImputer(strategy = 'most_frequent')), \n",
    "                     ('binn', CustomBinning()),\n",
    "                     ('ohe', OneHotEncoder(sparse=False, handle_unknown='ignore'))])"
   ]
  },
  {
   "cell_type": "code",
   "execution_count": 53,
   "metadata": {},
   "outputs": [],
   "source": [
    "num_pipe_age = Pipeline([('imp', SimpleImputer(strategy = 'mean')), \n",
    "                       ('binn', CustomBinning()),\n",
    "                       ('ohe', OneHotEncoder(sparse=False, handle_unknown='ignore'))])"
   ]
  },
  {
   "cell_type": "code",
   "execution_count": 54,
   "metadata": {},
   "outputs": [],
   "source": [
    "num_pipe_3 = Pipeline([('imp', SimpleImputer(strategy='mean')),\n",
    "                     ('repl', Replacer()),\n",
    "                     ('box_cox', PowerTransformer(method='box-cox', standardize=True))])"
   ]
  },
  {
   "cell_type": "code",
   "execution_count": 55,
   "metadata": {},
   "outputs": [],
   "source": [
    "transformers = [('num_1', num_pipe_1, num_columns_1), \n",
    "                ('num_2', num_pipe_2, num_columns_2), \n",
    "                ('num_age', num_pipe_age, num_columns_age), \n",
    "                ('num_3', num_pipe_3, num_columns_3)]"
   ]
  },
  {
   "cell_type": "code",
   "execution_count": 56,
   "metadata": {},
   "outputs": [],
   "source": [
    "transformer = ColumnTransformer(transformers = transformers)"
   ]
  },
  {
   "cell_type": "code",
   "execution_count": 57,
   "metadata": {},
   "outputs": [],
   "source": [
    "ml_pipe = Pipeline([('tf', transformer),\n",
    "                    ('logreg', LogisticRegression(solver = 'lbfgs', max_iter = 200))])"
   ]
  },
  {
   "cell_type": "code",
   "execution_count": 63,
   "metadata": {},
   "outputs": [],
   "source": [
    "param_grid = {\n",
    "    #'logreg__C': [0.1, 0.2, 0.3],\n",
    "    #'logreg__solver': ['lbfgs', 'liblinear'],\n",
    "    #'tf__num_1__corrlog__k': [0.1, 0.5, 0.6, 0.7, 0.8],\n",
    "    'tf__num_2__binn__bins': [[-np.inf, 2, 6, 10, np.inf], \n",
    "                             [-np.inf, 3, 5, np.inf]],\n",
    "    'tf__num_age__binn__bins': [[-np.inf, 20, 40, 60, 80, np.inf], \n",
    "                             [-np.inf, 20, 50, 80, np.inf]],\n",
    "    'tf__num_3__repl__repl_value': [0.005, 0.01, 0.2]\n",
    "}"
   ]
  },
  {
   "cell_type": "code",
   "execution_count": 64,
   "metadata": {},
   "outputs": [
    {
     "name": "stdout",
     "output_type": "stream",
     "text": [
      "Наилучшие значения гиперпараметров: {'tf__num_2__binn__bins': [-inf, 3, 5, inf], 'tf__num_3__repl__repl_value': 0.2, 'tf__num_age__binn__bins': [-inf, 20, 40, 60, 80, inf]}\n",
      "Наилучшее значение AUC: 0.848\n",
      "AUC на тестовой выборке: 0.852\n"
     ]
    }
   ],
   "source": [
    "gs = GridSearchCV(ml_pipe, \n",
    "                  param_grid, \n",
    "                  scoring='roc_auc', \n",
    "                  cv=5, \n",
    "                  return_train_score=False)\n",
    "\n",
    "# выполняем решетчатый поиск\n",
    "gs.fit(X_train, y_train)\n",
    "\n",
    "# смотрим наилучшие значения гиперпараметров\n",
    "print('Наилучшие значения гиперпараметров: {}'.format(gs.best_params_))\n",
    "# смотрим наилучшее значение AUC\n",
    "print('Наилучшее значение AUC: {:.3f}'.format(gs.best_score_))\n",
    "# смотрим значение AUC на тестовой выборке\n",
    "print('AUC на тестовой выборке: {:.3f}'.format(\n",
    "    roc_auc_score(y_test, gs.predict_proba(X_test)[:, 1])))"
   ]
  },
  {
   "cell_type": "code",
   "execution_count": null,
   "metadata": {},
   "outputs": [],
   "source": []
  }
 ],
 "metadata": {
  "kernelspec": {
   "display_name": "Python 3",
   "language": "python",
   "name": "python3"
  },
  "language_info": {
   "codemirror_mode": {
    "name": "ipython",
    "version": 3
   },
   "file_extension": ".py",
   "mimetype": "text/x-python",
   "name": "python",
   "nbconvert_exporter": "python",
   "pygments_lexer": "ipython3",
   "version": "3.6.6"
  }
 },
 "nbformat": 4,
 "nbformat_minor": 2
}
