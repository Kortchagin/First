{
 "cells": [
  {
   "cell_type": "markdown",
   "metadata": {},
   "source": [
    "Task 27.04.20\n",
    "Bankloan \n",
    "Logistic regression\n",
    "Pipeline\n",
    "Cross validation"
   ]
  },
  {
   "cell_type": "code",
   "execution_count": 124,
   "metadata": {},
   "outputs": [],
   "source": [
    "import os\n",
    "import numpy as np\n",
    "import pandas as pd\n",
    "#from sklearn.model_selection import train_test_split\n",
    "from sklearn.impute import SimpleImputer\n",
    "from sklearn.preprocessing import StandardScaler, OneHotEncoder\n",
    "from sklearn.compose import ColumnTransformer\n",
    "from sklearn.linear_model import LogisticRegression\n",
    "from sklearn.ensemble import GradientBoostingRegressor\n",
    "from sklearn.pipeline import Pipeline\n",
    "from sklearn.model_selection import cross_val_score, cross_val_predict"
   ]
  },
  {
   "cell_type": "code",
   "execution_count": 125,
   "metadata": {},
   "outputs": [
    {
     "data": {
      "text/plain": [
       "'D:\\\\ML\\\\jupiter_notebook\\\\Gewissta\\\\Course_ML\\\\Модуль_1\\\\Data'"
      ]
     },
     "execution_count": 125,
     "metadata": {},
     "output_type": "execute_result"
    }
   ],
   "source": [
    "os.getcwd()"
   ]
  },
  {
   "cell_type": "code",
   "execution_count": 126,
   "metadata": {},
   "outputs": [],
   "source": [
    "os.chdir('D:\\\\ML\\\\Gewissta\\\\My course\\\\')"
   ]
  },
  {
   "cell_type": "markdown",
   "metadata": {},
   "source": [
    "# Bankloan"
   ]
  },
  {
   "cell_type": "code",
   "execution_count": 127,
   "metadata": {},
   "outputs": [],
   "source": [
    "data = pd.read_csv('Bankloan.csv', sep = ';', decimal = ',')"
   ]
  },
  {
   "cell_type": "code",
   "execution_count": 128,
   "metadata": {},
   "outputs": [
    {
     "data": {
      "text/html": [
       "<div>\n",
       "<style scoped>\n",
       "    .dataframe tbody tr th:only-of-type {\n",
       "        vertical-align: middle;\n",
       "    }\n",
       "\n",
       "    .dataframe tbody tr th {\n",
       "        vertical-align: top;\n",
       "    }\n",
       "\n",
       "    .dataframe thead th {\n",
       "        text-align: right;\n",
       "    }\n",
       "</style>\n",
       "<table border=\"1\" class=\"dataframe\">\n",
       "  <thead>\n",
       "    <tr style=\"text-align: right;\">\n",
       "      <th></th>\n",
       "      <th>age</th>\n",
       "      <th>job</th>\n",
       "      <th>employ</th>\n",
       "      <th>address</th>\n",
       "      <th>income</th>\n",
       "      <th>debtinc</th>\n",
       "      <th>creddebt</th>\n",
       "      <th>othdebt</th>\n",
       "      <th>default</th>\n",
       "    </tr>\n",
       "  </thead>\n",
       "  <tbody>\n",
       "    <tr>\n",
       "      <th>0</th>\n",
       "      <td>28</td>\n",
       "      <td>working - other</td>\n",
       "      <td>7</td>\n",
       "      <td>2</td>\n",
       "      <td>44</td>\n",
       "      <td>17.7</td>\n",
       "      <td>2.990592</td>\n",
       "      <td>4.797408</td>\n",
       "      <td>0</td>\n",
       "    </tr>\n",
       "    <tr>\n",
       "      <th>1</th>\n",
       "      <td>64</td>\n",
       "      <td>working - production</td>\n",
       "      <td>34</td>\n",
       "      <td>17</td>\n",
       "      <td>116</td>\n",
       "      <td>14.7</td>\n",
       "      <td>5.047392</td>\n",
       "      <td>12.004608</td>\n",
       "      <td>0</td>\n",
       "    </tr>\n",
       "    <tr>\n",
       "      <th>2</th>\n",
       "      <td>40</td>\n",
       "      <td>working - IT</td>\n",
       "      <td>20</td>\n",
       "      <td>12</td>\n",
       "      <td>61</td>\n",
       "      <td>4.8</td>\n",
       "      <td>1.042368</td>\n",
       "      <td>1.885632</td>\n",
       "      <td>0</td>\n",
       "    </tr>\n",
       "    <tr>\n",
       "      <th>3</th>\n",
       "      <td>30</td>\n",
       "      <td>working - IT</td>\n",
       "      <td>11</td>\n",
       "      <td>3</td>\n",
       "      <td>27</td>\n",
       "      <td>34.5</td>\n",
       "      <td>1.751220</td>\n",
       "      <td>7.563780</td>\n",
       "      <td>0</td>\n",
       "    </tr>\n",
       "    <tr>\n",
       "      <th>4</th>\n",
       "      <td>25</td>\n",
       "      <td>working - IT</td>\n",
       "      <td>2</td>\n",
       "      <td>2</td>\n",
       "      <td>30</td>\n",
       "      <td>22.4</td>\n",
       "      <td>0.759360</td>\n",
       "      <td>5.960640</td>\n",
       "      <td>1</td>\n",
       "    </tr>\n",
       "  </tbody>\n",
       "</table>\n",
       "</div>"
      ],
      "text/plain": [
       "   age                   job  employ  address  income  debtinc  creddebt  \\\n",
       "0   28       working - other       7        2      44     17.7  2.990592   \n",
       "1   64  working - production      34       17     116     14.7  5.047392   \n",
       "2   40          working - IT      20       12      61      4.8  1.042368   \n",
       "3   30          working - IT      11        3      27     34.5  1.751220   \n",
       "4   25          working - IT       2        2      30     22.4  0.759360   \n",
       "\n",
       "     othdebt  default  \n",
       "0   4.797408        0  \n",
       "1  12.004608        0  \n",
       "2   1.885632        0  \n",
       "3   7.563780        0  \n",
       "4   5.960640        1  "
      ]
     },
     "execution_count": 128,
     "metadata": {},
     "output_type": "execute_result"
    }
   ],
   "source": [
    "data.head()"
   ]
  },
  {
   "cell_type": "code",
   "execution_count": 129,
   "metadata": {},
   "outputs": [
    {
     "name": "stdout",
     "output_type": "stream",
     "text": [
      "<class 'pandas.core.frame.DataFrame'>\n",
      "RangeIndex: 1500 entries, 0 to 1499\n",
      "Data columns (total 9 columns):\n",
      "age         1500 non-null int64\n",
      "job         1500 non-null object\n",
      "employ      1500 non-null int64\n",
      "address     1500 non-null int64\n",
      "income      1500 non-null int64\n",
      "debtinc     1500 non-null float64\n",
      "creddebt    1500 non-null float64\n",
      "othdebt     1500 non-null float64\n",
      "default     1500 non-null int64\n",
      "dtypes: float64(3), int64(5), object(1)\n",
      "memory usage: 105.5+ KB\n"
     ]
    }
   ],
   "source": [
    "data.info()"
   ]
  },
  {
   "cell_type": "code",
   "execution_count": 130,
   "metadata": {},
   "outputs": [
    {
     "data": {
      "text/plain": [
       "age         0\n",
       "job         0\n",
       "employ      0\n",
       "address     0\n",
       "income      0\n",
       "debtinc     0\n",
       "creddebt    0\n",
       "othdebt     0\n",
       "default     0\n",
       "dtype: int64"
      ]
     },
     "execution_count": 130,
     "metadata": {},
     "output_type": "execute_result"
    }
   ],
   "source": [
    "data.isnull().sum()"
   ]
  },
  {
   "cell_type": "code",
   "execution_count": 131,
   "metadata": {},
   "outputs": [
    {
     "data": {
      "text/html": [
       "<div>\n",
       "<style scoped>\n",
       "    .dataframe tbody tr th:only-of-type {\n",
       "        vertical-align: middle;\n",
       "    }\n",
       "\n",
       "    .dataframe tbody tr th {\n",
       "        vertical-align: top;\n",
       "    }\n",
       "\n",
       "    .dataframe thead th {\n",
       "        text-align: right;\n",
       "    }\n",
       "</style>\n",
       "<table border=\"1\" class=\"dataframe\">\n",
       "  <thead>\n",
       "    <tr style=\"text-align: right;\">\n",
       "      <th></th>\n",
       "      <th>age</th>\n",
       "      <th>employ</th>\n",
       "      <th>address</th>\n",
       "      <th>income</th>\n",
       "      <th>debtinc</th>\n",
       "      <th>creddebt</th>\n",
       "      <th>othdebt</th>\n",
       "      <th>default</th>\n",
       "    </tr>\n",
       "  </thead>\n",
       "  <tbody>\n",
       "    <tr>\n",
       "      <th>count</th>\n",
       "      <td>1500.000000</td>\n",
       "      <td>1500.000000</td>\n",
       "      <td>1500.000000</td>\n",
       "      <td>1500.000000</td>\n",
       "      <td>1500.000000</td>\n",
       "      <td>1500.000000</td>\n",
       "      <td>1500.000000</td>\n",
       "      <td>1500.000000</td>\n",
       "    </tr>\n",
       "    <tr>\n",
       "      <th>mean</th>\n",
       "      <td>34.174000</td>\n",
       "      <td>6.952000</td>\n",
       "      <td>6.305333</td>\n",
       "      <td>59.588667</td>\n",
       "      <td>9.929333</td>\n",
       "      <td>1.934922</td>\n",
       "      <td>3.844308</td>\n",
       "      <td>0.365333</td>\n",
       "    </tr>\n",
       "    <tr>\n",
       "      <th>std</th>\n",
       "      <td>13.142306</td>\n",
       "      <td>8.977644</td>\n",
       "      <td>6.047740</td>\n",
       "      <td>67.130160</td>\n",
       "      <td>6.671884</td>\n",
       "      <td>2.973989</td>\n",
       "      <td>5.333428</td>\n",
       "      <td>0.481684</td>\n",
       "    </tr>\n",
       "    <tr>\n",
       "      <th>min</th>\n",
       "      <td>18.000000</td>\n",
       "      <td>0.000000</td>\n",
       "      <td>0.000000</td>\n",
       "      <td>12.000000</td>\n",
       "      <td>0.000000</td>\n",
       "      <td>0.000000</td>\n",
       "      <td>0.000000</td>\n",
       "      <td>0.000000</td>\n",
       "    </tr>\n",
       "    <tr>\n",
       "      <th>25%</th>\n",
       "      <td>24.000000</td>\n",
       "      <td>0.000000</td>\n",
       "      <td>2.000000</td>\n",
       "      <td>27.000000</td>\n",
       "      <td>4.800000</td>\n",
       "      <td>0.423225</td>\n",
       "      <td>1.106986</td>\n",
       "      <td>0.000000</td>\n",
       "    </tr>\n",
       "    <tr>\n",
       "      <th>50%</th>\n",
       "      <td>31.000000</td>\n",
       "      <td>4.000000</td>\n",
       "      <td>5.000000</td>\n",
       "      <td>40.000000</td>\n",
       "      <td>8.500000</td>\n",
       "      <td>0.986076</td>\n",
       "      <td>2.214072</td>\n",
       "      <td>0.000000</td>\n",
       "    </tr>\n",
       "    <tr>\n",
       "      <th>75%</th>\n",
       "      <td>42.000000</td>\n",
       "      <td>10.000000</td>\n",
       "      <td>9.000000</td>\n",
       "      <td>64.000000</td>\n",
       "      <td>13.525000</td>\n",
       "      <td>2.202150</td>\n",
       "      <td>4.573312</td>\n",
       "      <td>1.000000</td>\n",
       "    </tr>\n",
       "    <tr>\n",
       "      <th>max</th>\n",
       "      <td>79.000000</td>\n",
       "      <td>63.000000</td>\n",
       "      <td>34.000000</td>\n",
       "      <td>1079.000000</td>\n",
       "      <td>40.700000</td>\n",
       "      <td>35.972690</td>\n",
       "      <td>63.472640</td>\n",
       "      <td>1.000000</td>\n",
       "    </tr>\n",
       "  </tbody>\n",
       "</table>\n",
       "</div>"
      ],
      "text/plain": [
       "               age       employ      address       income      debtinc  \\\n",
       "count  1500.000000  1500.000000  1500.000000  1500.000000  1500.000000   \n",
       "mean     34.174000     6.952000     6.305333    59.588667     9.929333   \n",
       "std      13.142306     8.977644     6.047740    67.130160     6.671884   \n",
       "min      18.000000     0.000000     0.000000    12.000000     0.000000   \n",
       "25%      24.000000     0.000000     2.000000    27.000000     4.800000   \n",
       "50%      31.000000     4.000000     5.000000    40.000000     8.500000   \n",
       "75%      42.000000    10.000000     9.000000    64.000000    13.525000   \n",
       "max      79.000000    63.000000    34.000000  1079.000000    40.700000   \n",
       "\n",
       "          creddebt      othdebt      default  \n",
       "count  1500.000000  1500.000000  1500.000000  \n",
       "mean      1.934922     3.844308     0.365333  \n",
       "std       2.973989     5.333428     0.481684  \n",
       "min       0.000000     0.000000     0.000000  \n",
       "25%       0.423225     1.106986     0.000000  \n",
       "50%       0.986076     2.214072     0.000000  \n",
       "75%       2.202150     4.573312     1.000000  \n",
       "max      35.972690    63.472640     1.000000  "
      ]
     },
     "execution_count": 131,
     "metadata": {},
     "output_type": "execute_result"
    }
   ],
   "source": [
    "data.describe()"
   ]
  },
  {
   "cell_type": "code",
   "execution_count": 132,
   "metadata": {},
   "outputs": [],
   "source": [
    "#X_train, X_test, y_train, y_test = train_test_split(data.drop('default', axis = 1), data['default'], \n",
    "#                                                    test_size = 0.3, stratify = data['default'],\n",
    "#                                                   random_state = 42)"
   ]
  },
  {
   "cell_type": "code",
   "execution_count": 133,
   "metadata": {},
   "outputs": [],
   "source": [
    "y = data.pop('default')"
   ]
  },
  {
   "cell_type": "code",
   "execution_count": 134,
   "metadata": {},
   "outputs": [],
   "source": [
    "cat_columns = data.dtypes[data.dtypes == 'object'].index\n",
    "num_columns = data.dtypes[data.dtypes != 'object'].index"
   ]
  },
  {
   "cell_type": "code",
   "execution_count": 135,
   "metadata": {},
   "outputs": [],
   "source": [
    "num_pipe = Pipeline([('imputer', SimpleImputer(strategy = 'mean')), \n",
    "                    ('scaler', StandardScaler())])"
   ]
  },
  {
   "cell_type": "code",
   "execution_count": 136,
   "metadata": {},
   "outputs": [],
   "source": [
    "cat_pipe = Pipeline([('imputer', SimpleImputer(strategy = 'most_frequent')), \n",
    "                    ('ohe', OneHotEncoder(sparse = False, handle_unknown = 'ignore'))])"
   ]
  },
  {
   "cell_type": "code",
   "execution_count": 137,
   "metadata": {},
   "outputs": [],
   "source": [
    "transformers = [('num', num_pipe, num_columns), ('cat', cat_pipe, cat_columns)]"
   ]
  },
  {
   "cell_type": "code",
   "execution_count": 138,
   "metadata": {},
   "outputs": [],
   "source": [
    "transformer = ColumnTransformer(transformers = transformers)"
   ]
  },
  {
   "cell_type": "code",
   "execution_count": 139,
   "metadata": {},
   "outputs": [],
   "source": [
    "ml_pipe = Pipeline([('transform', transformer),\n",
    "                    ('logreg', LogisticRegression(solver = 'lbfgs', max_iter = 200))])"
   ]
  },
  {
   "cell_type": "code",
   "execution_count": 140,
   "metadata": {},
   "outputs": [
    {
     "name": "stdout",
     "output_type": "stream",
     "text": [
      "[0.72093023 0.76079734 0.78333333 0.80936455 0.73578595]\n",
      "Accuracy mean by 5 folders  0.7620422819512809\n"
     ]
    }
   ],
   "source": [
    "print(cross_val_score(ml_pipe, data, y, cv = 5))\n",
    "cv_mean = cross_val_score(ml_pipe, data, y, cv = 5).mean()\n",
    "print('Accuracy mean by 5 folders ', cv_mean)"
   ]
  },
  {
   "cell_type": "code",
   "execution_count": 141,
   "metadata": {},
   "outputs": [
    {
     "name": "stdout",
     "output_type": "stream",
     "text": [
      "[1 0 0 1 1 0 0 1 0 0 0 1 1 0 0 1 1 0 0 0]\n"
     ]
    }
   ],
   "source": [
    "print(cross_val_predict(ml_pipe, data, y, cv = 5)[:20])"
   ]
  },
  {
   "cell_type": "code",
   "execution_count": 142,
   "metadata": {},
   "outputs": [
    {
     "data": {
      "text/plain": [
       "0     0\n",
       "1     0\n",
       "2     0\n",
       "3     0\n",
       "4     1\n",
       "5     1\n",
       "6     1\n",
       "7     0\n",
       "8     0\n",
       "9     0\n",
       "10    0\n",
       "11    1\n",
       "12    0\n",
       "13    0\n",
       "14    0\n",
       "15    1\n",
       "16    1\n",
       "17    1\n",
       "18    1\n",
       "19    0\n",
       "Name: default, dtype: int64"
      ]
     },
     "execution_count": 142,
     "metadata": {},
     "output_type": "execute_result"
    }
   ],
   "source": [
    "y[:20]"
   ]
  },
  {
   "cell_type": "markdown",
   "metadata": {},
   "source": [
    "# Flats_missing"
   ]
  },
  {
   "cell_type": "code",
   "execution_count": 143,
   "metadata": {},
   "outputs": [
    {
     "data": {
      "text/plain": [
       "'D:\\\\ML\\\\Gewissta\\\\My course'"
      ]
     },
     "execution_count": 143,
     "metadata": {},
     "output_type": "execute_result"
    }
   ],
   "source": [
    "os.getcwd()"
   ]
  },
  {
   "cell_type": "code",
   "execution_count": 144,
   "metadata": {},
   "outputs": [],
   "source": [
    "os.chdir('D:\\\\ML\\\\jupiter_notebook\\\\Gewissta\\\\Course_ML\\\\Модуль_1\\\\Data')"
   ]
  },
  {
   "cell_type": "code",
   "execution_count": 145,
   "metadata": {},
   "outputs": [],
   "source": [
    "df = pd.read_csv('Flats_missing.csv', sep = ';', decimal = ',')"
   ]
  },
  {
   "cell_type": "code",
   "execution_count": 146,
   "metadata": {},
   "outputs": [
    {
     "data": {
      "text/html": [
       "<div>\n",
       "<style scoped>\n",
       "    .dataframe tbody tr th:only-of-type {\n",
       "        vertical-align: middle;\n",
       "    }\n",
       "\n",
       "    .dataframe tbody tr th {\n",
       "        vertical-align: top;\n",
       "    }\n",
       "\n",
       "    .dataframe thead th {\n",
       "        text-align: right;\n",
       "    }\n",
       "</style>\n",
       "<table border=\"1\" class=\"dataframe\">\n",
       "  <thead>\n",
       "    <tr style=\"text-align: right;\">\n",
       "      <th></th>\n",
       "      <th>Rooms_Number</th>\n",
       "      <th>District</th>\n",
       "      <th>Stor</th>\n",
       "      <th>Storeys</th>\n",
       "      <th>Space_Total</th>\n",
       "      <th>Space_Living</th>\n",
       "      <th>Space_Kitchen</th>\n",
       "      <th>Balcon_Num</th>\n",
       "      <th>Lodgee_Num</th>\n",
       "      <th>lat</th>\n",
       "      <th>Long</th>\n",
       "      <th>Cost_KV</th>\n",
       "    </tr>\n",
       "  </thead>\n",
       "  <tbody>\n",
       "    <tr>\n",
       "      <th>0</th>\n",
       "      <td>1</td>\n",
       "      <td>Заельцовский</td>\n",
       "      <td>13</td>\n",
       "      <td>17.0</td>\n",
       "      <td>54.1</td>\n",
       "      <td>18.0</td>\n",
       "      <td>21.2</td>\n",
       "      <td>0.0</td>\n",
       "      <td>1</td>\n",
       "      <td>55.0725</td>\n",
       "      <td>82.9069</td>\n",
       "      <td>50831.79298</td>\n",
       "    </tr>\n",
       "    <tr>\n",
       "      <th>1</th>\n",
       "      <td>1</td>\n",
       "      <td>Заельцовский</td>\n",
       "      <td>10</td>\n",
       "      <td>17.0</td>\n",
       "      <td>54.5</td>\n",
       "      <td>18.0</td>\n",
       "      <td>21.1</td>\n",
       "      <td>0.0</td>\n",
       "      <td>1</td>\n",
       "      <td>55.0725</td>\n",
       "      <td>82.9069</td>\n",
       "      <td>52000.00000</td>\n",
       "    </tr>\n",
       "    <tr>\n",
       "      <th>2</th>\n",
       "      <td>1</td>\n",
       "      <td>Центральный</td>\n",
       "      <td>8</td>\n",
       "      <td>17.0</td>\n",
       "      <td>37.0</td>\n",
       "      <td>0.0</td>\n",
       "      <td>0.0</td>\n",
       "      <td>0.0</td>\n",
       "      <td>0</td>\n",
       "      <td>55.0725</td>\n",
       "      <td>82.9068</td>\n",
       "      <td>87837.83784</td>\n",
       "    </tr>\n",
       "    <tr>\n",
       "      <th>3</th>\n",
       "      <td>1</td>\n",
       "      <td>Центральный</td>\n",
       "      <td>2</td>\n",
       "      <td>17.0</td>\n",
       "      <td>42.0</td>\n",
       "      <td>0.0</td>\n",
       "      <td>0.0</td>\n",
       "      <td>0.0</td>\n",
       "      <td>0</td>\n",
       "      <td>55.0725</td>\n",
       "      <td>82.9068</td>\n",
       "      <td>90238.09524</td>\n",
       "    </tr>\n",
       "    <tr>\n",
       "      <th>4</th>\n",
       "      <td>1</td>\n",
       "      <td>Центральный</td>\n",
       "      <td>13</td>\n",
       "      <td>17.0</td>\n",
       "      <td>28.0</td>\n",
       "      <td>0.0</td>\n",
       "      <td>0.0</td>\n",
       "      <td>0.0</td>\n",
       "      <td>0</td>\n",
       "      <td>55.0725</td>\n",
       "      <td>82.9068</td>\n",
       "      <td>110714.28570</td>\n",
       "    </tr>\n",
       "    <tr>\n",
       "      <th>5</th>\n",
       "      <td>2</td>\n",
       "      <td>Заельцовский</td>\n",
       "      <td>1</td>\n",
       "      <td>17.0</td>\n",
       "      <td>59.0</td>\n",
       "      <td>36.0</td>\n",
       "      <td>10.0</td>\n",
       "      <td>0.0</td>\n",
       "      <td>1</td>\n",
       "      <td>55.0725</td>\n",
       "      <td>82.9069</td>\n",
       "      <td>83050.84746</td>\n",
       "    </tr>\n",
       "    <tr>\n",
       "      <th>6</th>\n",
       "      <td>1</td>\n",
       "      <td>Заельцовский</td>\n",
       "      <td>2</td>\n",
       "      <td>NaN</td>\n",
       "      <td>NaN</td>\n",
       "      <td>18.0</td>\n",
       "      <td>12.0</td>\n",
       "      <td>0.0</td>\n",
       "      <td>1</td>\n",
       "      <td>55.0725</td>\n",
       "      <td>82.9069</td>\n",
       "      <td>89285.71429</td>\n",
       "    </tr>\n",
       "    <tr>\n",
       "      <th>7</th>\n",
       "      <td>1</td>\n",
       "      <td>Заельцовский</td>\n",
       "      <td>15</td>\n",
       "      <td>17.0</td>\n",
       "      <td>54.0</td>\n",
       "      <td>0.0</td>\n",
       "      <td>0.0</td>\n",
       "      <td>0.0</td>\n",
       "      <td>0</td>\n",
       "      <td>55.0725</td>\n",
       "      <td>82.9069</td>\n",
       "      <td>60740.74074</td>\n",
       "    </tr>\n",
       "    <tr>\n",
       "      <th>8</th>\n",
       "      <td>1</td>\n",
       "      <td>Заельцовский</td>\n",
       "      <td>11</td>\n",
       "      <td>17.0</td>\n",
       "      <td>37.6</td>\n",
       "      <td>18.6</td>\n",
       "      <td>10.6</td>\n",
       "      <td>NaN</td>\n",
       "      <td>1</td>\n",
       "      <td>55.0725</td>\n",
       "      <td>82.9069</td>\n",
       "      <td>78457.44681</td>\n",
       "    </tr>\n",
       "    <tr>\n",
       "      <th>9</th>\n",
       "      <td>3</td>\n",
       "      <td>Заельцовский</td>\n",
       "      <td>16</td>\n",
       "      <td>NaN</td>\n",
       "      <td>110.0</td>\n",
       "      <td>80.0</td>\n",
       "      <td>15.0</td>\n",
       "      <td>0.0</td>\n",
       "      <td>1</td>\n",
       "      <td>55.0725</td>\n",
       "      <td>82.9069</td>\n",
       "      <td>75454.54545</td>\n",
       "    </tr>\n",
       "  </tbody>\n",
       "</table>\n",
       "</div>"
      ],
      "text/plain": [
       "   Rooms_Number      District  Stor  Storeys  Space_Total  Space_Living  \\\n",
       "0             1  Заельцовский    13     17.0         54.1          18.0   \n",
       "1             1  Заельцовский    10     17.0         54.5          18.0   \n",
       "2             1   Центральный     8     17.0         37.0           0.0   \n",
       "3             1   Центральный     2     17.0         42.0           0.0   \n",
       "4             1   Центральный    13     17.0         28.0           0.0   \n",
       "5             2  Заельцовский     1     17.0         59.0          36.0   \n",
       "6             1  Заельцовский     2      NaN          NaN          18.0   \n",
       "7             1  Заельцовский    15     17.0         54.0           0.0   \n",
       "8             1  Заельцовский    11     17.0         37.6          18.6   \n",
       "9             3  Заельцовский    16      NaN        110.0          80.0   \n",
       "\n",
       "   Space_Kitchen  Balcon_Num  Lodgee_Num      lat     Long       Cost_KV  \n",
       "0           21.2         0.0           1  55.0725  82.9069   50831.79298  \n",
       "1           21.1         0.0           1  55.0725  82.9069   52000.00000  \n",
       "2            0.0         0.0           0  55.0725  82.9068   87837.83784  \n",
       "3            0.0         0.0           0  55.0725  82.9068   90238.09524  \n",
       "4            0.0         0.0           0  55.0725  82.9068  110714.28570  \n",
       "5           10.0         0.0           1  55.0725  82.9069   83050.84746  \n",
       "6           12.0         0.0           1  55.0725  82.9069   89285.71429  \n",
       "7            0.0         0.0           0  55.0725  82.9069   60740.74074  \n",
       "8           10.6         NaN           1  55.0725  82.9069   78457.44681  \n",
       "9           15.0         0.0           1  55.0725  82.9069   75454.54545  "
      ]
     },
     "execution_count": 146,
     "metadata": {},
     "output_type": "execute_result"
    }
   ],
   "source": [
    "df.head(10)"
   ]
  },
  {
   "cell_type": "code",
   "execution_count": 147,
   "metadata": {},
   "outputs": [
    {
     "name": "stdout",
     "output_type": "stream",
     "text": [
      "<class 'pandas.core.frame.DataFrame'>\n",
      "RangeIndex: 71750 entries, 0 to 71749\n",
      "Data columns (total 12 columns):\n",
      "Rooms_Number     71750 non-null int64\n",
      "District         71740 non-null object\n",
      "Stor             71750 non-null int64\n",
      "Storeys          71746 non-null float64\n",
      "Space_Total      71746 non-null float64\n",
      "Space_Living     71747 non-null float64\n",
      "Space_Kitchen    71749 non-null float64\n",
      "Balcon_Num       71749 non-null float64\n",
      "Lodgee_Num       71750 non-null int64\n",
      "lat              71750 non-null float64\n",
      "Long             71750 non-null float64\n",
      "Cost_KV          71750 non-null float64\n",
      "dtypes: float64(8), int64(3), object(1)\n",
      "memory usage: 6.6+ MB\n"
     ]
    }
   ],
   "source": [
    "df.info()"
   ]
  },
  {
   "cell_type": "code",
   "execution_count": 148,
   "metadata": {},
   "outputs": [
    {
     "data": {
      "text/plain": [
       "Rooms_Number      0\n",
       "District         10\n",
       "Stor              0\n",
       "Storeys           4\n",
       "Space_Total       4\n",
       "Space_Living      3\n",
       "Space_Kitchen     1\n",
       "Balcon_Num        1\n",
       "Lodgee_Num        0\n",
       "lat               0\n",
       "Long              0\n",
       "Cost_KV           0\n",
       "dtype: int64"
      ]
     },
     "execution_count": 148,
     "metadata": {},
     "output_type": "execute_result"
    }
   ],
   "source": [
    "df.isnull().sum()"
   ]
  },
  {
   "cell_type": "code",
   "execution_count": 149,
   "metadata": {},
   "outputs": [
    {
     "data": {
      "text/plain": [
       "Октябрьский        12773\n",
       "Ленинский          12312\n",
       "Кировский          10374\n",
       "Калининский         7512\n",
       "Заельцовский        6726\n",
       "Дзержинский         6369\n",
       "Первомайский        5463\n",
       "Центральный         3822\n",
       "Советский           3655\n",
       "Железнодорожный     2734\n",
       "Name: District, dtype: int64"
      ]
     },
     "execution_count": 149,
     "metadata": {},
     "output_type": "execute_result"
    }
   ],
   "source": [
    "df.District.value_counts()"
   ]
  },
  {
   "cell_type": "code",
   "execution_count": 150,
   "metadata": {},
   "outputs": [],
   "source": [
    "y_df = df.pop('Cost_KV')"
   ]
  },
  {
   "cell_type": "code",
   "execution_count": 151,
   "metadata": {},
   "outputs": [],
   "source": [
    "cat_columns_df = df.dtypes[df.dtypes == 'object'].index\n",
    "num_columns_df = df.dtypes[df.dtypes != 'object'].index"
   ]
  },
  {
   "cell_type": "code",
   "execution_count": 152,
   "metadata": {},
   "outputs": [],
   "source": [
    "num_pipe_df = Pipeline([('imputer', SimpleImputer(strategy = 'median')), \n",
    "                    ('scaler', StandardScaler())])"
   ]
  },
  {
   "cell_type": "code",
   "execution_count": 153,
   "metadata": {},
   "outputs": [],
   "source": [
    "cat_pipe_df = Pipeline([('imputer', SimpleImputer(strategy = 'most_frequent')), \n",
    "                    ('ohe', OneHotEncoder(sparse = False, handle_unknown = 'ignore'))])"
   ]
  },
  {
   "cell_type": "code",
   "execution_count": 154,
   "metadata": {},
   "outputs": [],
   "source": [
    "transformers_df = [('num_df', num_pipe_df, num_columns_df), ('cat_df', cat_pipe_df, cat_columns_df)]"
   ]
  },
  {
   "cell_type": "code",
   "execution_count": 155,
   "metadata": {},
   "outputs": [],
   "source": [
    "transformer_df = ColumnTransformer(transformers = transformers_df)"
   ]
  },
  {
   "cell_type": "code",
   "execution_count": 156,
   "metadata": {},
   "outputs": [],
   "source": [
    "ml_pipe_df = Pipeline([('transform', transformer_df),\n",
    "                    ('boost', GradientBoostingRegressor(max_depth = 6, random_state = 46))])"
   ]
  },
  {
   "cell_type": "code",
   "execution_count": 171,
   "metadata": {},
   "outputs": [],
   "source": [
    "rmse_cv = cross_val_score(ml_pipe_df, df, y_df, scoring = 'neg_mean_squared_error', cv = 5)\n",
    "r2_cv = cross_val_score(ml_pipe_df, df, y_df, cv = 5)"
   ]
  },
  {
   "cell_type": "code",
   "execution_count": 164,
   "metadata": {},
   "outputs": [
    {
     "name": "stdout",
     "output_type": "stream",
     "text": [
      "11865.121632970506 0.4037398553602814\n"
     ]
    }
   ],
   "source": [
    "print(np.sqrt(np.abs(rmse_cv)).mean(), r2_cv.mean())"
   ]
  },
  {
   "cell_type": "code",
   "execution_count": 170,
   "metadata": {},
   "outputs": [
    {
     "name": "stdout",
     "output_type": "stream",
     "text": [
      "[71867.05857691 71867.05857691 79456.76268194 76903.96399166\n",
      " 78510.70940287 64364.80492051 65465.55129985 69244.91536777\n",
      " 76142.9917244  57643.22972873 68016.14598321 67375.34801485\n",
      " 67098.67307735 67139.87711593 62281.44218533 62596.96265161\n",
      " 63510.41187884 70767.95965774 70237.90089713 64109.01187235]\n"
     ]
    }
   ],
   "source": [
    "print(cross_val_predict(ml_pipe_df, df, y_df, cv = 5)[:20])"
   ]
  },
  {
   "cell_type": "code",
   "execution_count": 168,
   "metadata": {},
   "outputs": [
    {
     "name": "stdout",
     "output_type": "stream",
     "text": [
      "0      50831.79298\n",
      "1      52000.00000\n",
      "2      87837.83784\n",
      "3      90238.09524\n",
      "4     110714.28570\n",
      "5      83050.84746\n",
      "6      89285.71429\n",
      "7      60740.74074\n",
      "8      78457.44681\n",
      "9      75454.54545\n",
      "10    104411.76470\n",
      "11     69072.16495\n",
      "12     78571.42857\n",
      "13     64361.70213\n",
      "14     63076.92308\n",
      "15     74152.54237\n",
      "16     73835.61644\n",
      "17     78333.33333\n",
      "18     74468.08511\n",
      "19     70895.52239\n",
      "Name: Cost_KV, dtype: float64\n"
     ]
    }
   ],
   "source": [
    "print(y_df[:20])"
   ]
  },
  {
   "cell_type": "code",
   "execution_count": 173,
   "metadata": {},
   "outputs": [
    {
     "data": {
      "text/plain": [
       "Rooms_Number      0\n",
       "District         10\n",
       "Stor              0\n",
       "Storeys           4\n",
       "Space_Total       4\n",
       "Space_Living      3\n",
       "Space_Kitchen     1\n",
       "Balcon_Num        1\n",
       "Lodgee_Num        0\n",
       "lat               0\n",
       "Long              0\n",
       "dtype: int64"
      ]
     },
     "execution_count": 173,
     "metadata": {},
     "output_type": "execute_result"
    }
   ],
   "source": [
    "df.isnull().sum()"
   ]
  },
  {
   "cell_type": "code",
   "execution_count": 174,
   "metadata": {},
   "outputs": [
    {
     "data": {
      "text/plain": [
       "Октябрьский        12773\n",
       "Ленинский          12312\n",
       "Кировский          10374\n",
       "Калининский         7512\n",
       "Заельцовский        6726\n",
       "Дзержинский         6369\n",
       "Первомайский        5463\n",
       "Центральный         3822\n",
       "Советский           3655\n",
       "Железнодорожный     2734\n",
       "Name: District, dtype: int64"
      ]
     },
     "execution_count": 174,
     "metadata": {},
     "output_type": "execute_result"
    }
   ],
   "source": [
    "df.District.value_counts()"
   ]
  },
  {
   "cell_type": "code",
   "execution_count": null,
   "metadata": {},
   "outputs": [],
   "source": []
  }
 ],
 "metadata": {
  "kernelspec": {
   "display_name": "Python 3",
   "language": "python",
   "name": "python3"
  },
  "language_info": {
   "codemirror_mode": {
    "name": "ipython",
    "version": 3
   },
   "file_extension": ".py",
   "mimetype": "text/x-python",
   "name": "python",
   "nbconvert_exporter": "python",
   "pygments_lexer": "ipython3",
   "version": "3.6.6"
  }
 },
 "nbformat": 4,
 "nbformat_minor": 2
}
