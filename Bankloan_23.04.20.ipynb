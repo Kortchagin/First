{
 "cells": [
  {
   "cell_type": "markdown",
   "metadata": {},
   "source": [
    "Task 23.04.20\n",
    "Bankloan \n",
    "Logistic regression"
   ]
  },
  {
   "cell_type": "code",
   "execution_count": 32,
   "metadata": {},
   "outputs": [],
   "source": [
    "import os\n",
    "import numpy as np\n",
    "import pandas as pd\n",
    "from sklearn.model_selection import train_test_split\n",
    "from sklearn.preprocessing import StandardScaler\n",
    "from sklearn.linear_model import LogisticRegression"
   ]
  },
  {
   "cell_type": "code",
   "execution_count": 33,
   "metadata": {},
   "outputs": [
    {
     "data": {
      "text/plain": [
       "'D:\\\\ML\\\\Gewissta\\\\My course'"
      ]
     },
     "execution_count": 33,
     "metadata": {},
     "output_type": "execute_result"
    }
   ],
   "source": [
    "os.getcwd()"
   ]
  },
  {
   "cell_type": "code",
   "execution_count": 34,
   "metadata": {},
   "outputs": [],
   "source": [
    "os.chdir('D:\\\\ML\\\\Gewissta\\\\My course\\\\')"
   ]
  },
  {
   "cell_type": "code",
   "execution_count": 35,
   "metadata": {},
   "outputs": [],
   "source": [
    "data = pd.read_csv('Bankloan.csv', sep = ';', decimal = ',')"
   ]
  },
  {
   "cell_type": "code",
   "execution_count": 36,
   "metadata": {},
   "outputs": [
    {
     "data": {
      "text/html": [
       "<div>\n",
       "<style scoped>\n",
       "    .dataframe tbody tr th:only-of-type {\n",
       "        vertical-align: middle;\n",
       "    }\n",
       "\n",
       "    .dataframe tbody tr th {\n",
       "        vertical-align: top;\n",
       "    }\n",
       "\n",
       "    .dataframe thead th {\n",
       "        text-align: right;\n",
       "    }\n",
       "</style>\n",
       "<table border=\"1\" class=\"dataframe\">\n",
       "  <thead>\n",
       "    <tr style=\"text-align: right;\">\n",
       "      <th></th>\n",
       "      <th>age</th>\n",
       "      <th>job</th>\n",
       "      <th>employ</th>\n",
       "      <th>address</th>\n",
       "      <th>income</th>\n",
       "      <th>debtinc</th>\n",
       "      <th>creddebt</th>\n",
       "      <th>othdebt</th>\n",
       "      <th>default</th>\n",
       "    </tr>\n",
       "  </thead>\n",
       "  <tbody>\n",
       "    <tr>\n",
       "      <th>0</th>\n",
       "      <td>28</td>\n",
       "      <td>working - other</td>\n",
       "      <td>7</td>\n",
       "      <td>2</td>\n",
       "      <td>44</td>\n",
       "      <td>17.7</td>\n",
       "      <td>2.990592</td>\n",
       "      <td>4.797408</td>\n",
       "      <td>0</td>\n",
       "    </tr>\n",
       "    <tr>\n",
       "      <th>1</th>\n",
       "      <td>64</td>\n",
       "      <td>working - production</td>\n",
       "      <td>34</td>\n",
       "      <td>17</td>\n",
       "      <td>116</td>\n",
       "      <td>14.7</td>\n",
       "      <td>5.047392</td>\n",
       "      <td>12.004608</td>\n",
       "      <td>0</td>\n",
       "    </tr>\n",
       "    <tr>\n",
       "      <th>2</th>\n",
       "      <td>40</td>\n",
       "      <td>working - IT</td>\n",
       "      <td>20</td>\n",
       "      <td>12</td>\n",
       "      <td>61</td>\n",
       "      <td>4.8</td>\n",
       "      <td>1.042368</td>\n",
       "      <td>1.885632</td>\n",
       "      <td>0</td>\n",
       "    </tr>\n",
       "    <tr>\n",
       "      <th>3</th>\n",
       "      <td>30</td>\n",
       "      <td>working - IT</td>\n",
       "      <td>11</td>\n",
       "      <td>3</td>\n",
       "      <td>27</td>\n",
       "      <td>34.5</td>\n",
       "      <td>1.751220</td>\n",
       "      <td>7.563780</td>\n",
       "      <td>0</td>\n",
       "    </tr>\n",
       "    <tr>\n",
       "      <th>4</th>\n",
       "      <td>25</td>\n",
       "      <td>working - IT</td>\n",
       "      <td>2</td>\n",
       "      <td>2</td>\n",
       "      <td>30</td>\n",
       "      <td>22.4</td>\n",
       "      <td>0.759360</td>\n",
       "      <td>5.960640</td>\n",
       "      <td>1</td>\n",
       "    </tr>\n",
       "  </tbody>\n",
       "</table>\n",
       "</div>"
      ],
      "text/plain": [
       "   age                   job  employ  address  income  debtinc  creddebt  \\\n",
       "0   28       working - other       7        2      44     17.7  2.990592   \n",
       "1   64  working - production      34       17     116     14.7  5.047392   \n",
       "2   40          working - IT      20       12      61      4.8  1.042368   \n",
       "3   30          working - IT      11        3      27     34.5  1.751220   \n",
       "4   25          working - IT       2        2      30     22.4  0.759360   \n",
       "\n",
       "     othdebt  default  \n",
       "0   4.797408        0  \n",
       "1  12.004608        0  \n",
       "2   1.885632        0  \n",
       "3   7.563780        0  \n",
       "4   5.960640        1  "
      ]
     },
     "execution_count": 36,
     "metadata": {},
     "output_type": "execute_result"
    }
   ],
   "source": [
    "data.head()"
   ]
  },
  {
   "cell_type": "code",
   "execution_count": 37,
   "metadata": {},
   "outputs": [
    {
     "name": "stdout",
     "output_type": "stream",
     "text": [
      "<class 'pandas.core.frame.DataFrame'>\n",
      "RangeIndex: 1500 entries, 0 to 1499\n",
      "Data columns (total 9 columns):\n",
      "age         1500 non-null int64\n",
      "job         1500 non-null object\n",
      "employ      1500 non-null int64\n",
      "address     1500 non-null int64\n",
      "income      1500 non-null int64\n",
      "debtinc     1500 non-null float64\n",
      "creddebt    1500 non-null float64\n",
      "othdebt     1500 non-null float64\n",
      "default     1500 non-null int64\n",
      "dtypes: float64(3), int64(5), object(1)\n",
      "memory usage: 105.5+ KB\n"
     ]
    }
   ],
   "source": [
    "data.info()"
   ]
  },
  {
   "cell_type": "code",
   "execution_count": 38,
   "metadata": {},
   "outputs": [
    {
     "data": {
      "text/plain": [
       "age         0\n",
       "job         0\n",
       "employ      0\n",
       "address     0\n",
       "income      0\n",
       "debtinc     0\n",
       "creddebt    0\n",
       "othdebt     0\n",
       "default     0\n",
       "dtype: int64"
      ]
     },
     "execution_count": 38,
     "metadata": {},
     "output_type": "execute_result"
    }
   ],
   "source": [
    "data.isnull().sum()"
   ]
  },
  {
   "cell_type": "code",
   "execution_count": 39,
   "metadata": {},
   "outputs": [
    {
     "data": {
      "text/html": [
       "<div>\n",
       "<style scoped>\n",
       "    .dataframe tbody tr th:only-of-type {\n",
       "        vertical-align: middle;\n",
       "    }\n",
       "\n",
       "    .dataframe tbody tr th {\n",
       "        vertical-align: top;\n",
       "    }\n",
       "\n",
       "    .dataframe thead th {\n",
       "        text-align: right;\n",
       "    }\n",
       "</style>\n",
       "<table border=\"1\" class=\"dataframe\">\n",
       "  <thead>\n",
       "    <tr style=\"text-align: right;\">\n",
       "      <th></th>\n",
       "      <th>age</th>\n",
       "      <th>employ</th>\n",
       "      <th>address</th>\n",
       "      <th>income</th>\n",
       "      <th>debtinc</th>\n",
       "      <th>creddebt</th>\n",
       "      <th>othdebt</th>\n",
       "      <th>default</th>\n",
       "    </tr>\n",
       "  </thead>\n",
       "  <tbody>\n",
       "    <tr>\n",
       "      <th>count</th>\n",
       "      <td>1500.000000</td>\n",
       "      <td>1500.000000</td>\n",
       "      <td>1500.000000</td>\n",
       "      <td>1500.000000</td>\n",
       "      <td>1500.000000</td>\n",
       "      <td>1500.000000</td>\n",
       "      <td>1500.000000</td>\n",
       "      <td>1500.000000</td>\n",
       "    </tr>\n",
       "    <tr>\n",
       "      <th>mean</th>\n",
       "      <td>34.174000</td>\n",
       "      <td>6.952000</td>\n",
       "      <td>6.305333</td>\n",
       "      <td>59.588667</td>\n",
       "      <td>9.929333</td>\n",
       "      <td>1.934922</td>\n",
       "      <td>3.844308</td>\n",
       "      <td>0.365333</td>\n",
       "    </tr>\n",
       "    <tr>\n",
       "      <th>std</th>\n",
       "      <td>13.142306</td>\n",
       "      <td>8.977644</td>\n",
       "      <td>6.047740</td>\n",
       "      <td>67.130160</td>\n",
       "      <td>6.671884</td>\n",
       "      <td>2.973989</td>\n",
       "      <td>5.333428</td>\n",
       "      <td>0.481684</td>\n",
       "    </tr>\n",
       "    <tr>\n",
       "      <th>min</th>\n",
       "      <td>18.000000</td>\n",
       "      <td>0.000000</td>\n",
       "      <td>0.000000</td>\n",
       "      <td>12.000000</td>\n",
       "      <td>0.000000</td>\n",
       "      <td>0.000000</td>\n",
       "      <td>0.000000</td>\n",
       "      <td>0.000000</td>\n",
       "    </tr>\n",
       "    <tr>\n",
       "      <th>25%</th>\n",
       "      <td>24.000000</td>\n",
       "      <td>0.000000</td>\n",
       "      <td>2.000000</td>\n",
       "      <td>27.000000</td>\n",
       "      <td>4.800000</td>\n",
       "      <td>0.423225</td>\n",
       "      <td>1.106986</td>\n",
       "      <td>0.000000</td>\n",
       "    </tr>\n",
       "    <tr>\n",
       "      <th>50%</th>\n",
       "      <td>31.000000</td>\n",
       "      <td>4.000000</td>\n",
       "      <td>5.000000</td>\n",
       "      <td>40.000000</td>\n",
       "      <td>8.500000</td>\n",
       "      <td>0.986076</td>\n",
       "      <td>2.214072</td>\n",
       "      <td>0.000000</td>\n",
       "    </tr>\n",
       "    <tr>\n",
       "      <th>75%</th>\n",
       "      <td>42.000000</td>\n",
       "      <td>10.000000</td>\n",
       "      <td>9.000000</td>\n",
       "      <td>64.000000</td>\n",
       "      <td>13.525000</td>\n",
       "      <td>2.202150</td>\n",
       "      <td>4.573312</td>\n",
       "      <td>1.000000</td>\n",
       "    </tr>\n",
       "    <tr>\n",
       "      <th>max</th>\n",
       "      <td>79.000000</td>\n",
       "      <td>63.000000</td>\n",
       "      <td>34.000000</td>\n",
       "      <td>1079.000000</td>\n",
       "      <td>40.700000</td>\n",
       "      <td>35.972690</td>\n",
       "      <td>63.472640</td>\n",
       "      <td>1.000000</td>\n",
       "    </tr>\n",
       "  </tbody>\n",
       "</table>\n",
       "</div>"
      ],
      "text/plain": [
       "               age       employ      address       income      debtinc  \\\n",
       "count  1500.000000  1500.000000  1500.000000  1500.000000  1500.000000   \n",
       "mean     34.174000     6.952000     6.305333    59.588667     9.929333   \n",
       "std      13.142306     8.977644     6.047740    67.130160     6.671884   \n",
       "min      18.000000     0.000000     0.000000    12.000000     0.000000   \n",
       "25%      24.000000     0.000000     2.000000    27.000000     4.800000   \n",
       "50%      31.000000     4.000000     5.000000    40.000000     8.500000   \n",
       "75%      42.000000    10.000000     9.000000    64.000000    13.525000   \n",
       "max      79.000000    63.000000    34.000000  1079.000000    40.700000   \n",
       "\n",
       "          creddebt      othdebt      default  \n",
       "count  1500.000000  1500.000000  1500.000000  \n",
       "mean      1.934922     3.844308     0.365333  \n",
       "std       2.973989     5.333428     0.481684  \n",
       "min       0.000000     0.000000     0.000000  \n",
       "25%       0.423225     1.106986     0.000000  \n",
       "50%       0.986076     2.214072     0.000000  \n",
       "75%       2.202150     4.573312     1.000000  \n",
       "max      35.972690    63.472640     1.000000  "
      ]
     },
     "execution_count": 39,
     "metadata": {},
     "output_type": "execute_result"
    }
   ],
   "source": [
    "data.describe()"
   ]
  },
  {
   "cell_type": "code",
   "execution_count": 40,
   "metadata": {},
   "outputs": [
    {
     "data": {
      "text/plain": [
       "working - other         527\n",
       "own business            333\n",
       "civil service           310\n",
       "working - IT            246\n",
       "working - production     84\n",
       "Name: job, dtype: int64"
      ]
     },
     "execution_count": 40,
     "metadata": {},
     "output_type": "execute_result"
    }
   ],
   "source": [
    "data.job.value_counts()"
   ]
  },
  {
   "cell_type": "code",
   "execution_count": 41,
   "metadata": {},
   "outputs": [],
   "source": [
    "data_onehot = pd.get_dummies(data)"
   ]
  },
  {
   "cell_type": "code",
   "execution_count": 42,
   "metadata": {},
   "outputs": [
    {
     "data": {
      "text/html": [
       "<div>\n",
       "<style scoped>\n",
       "    .dataframe tbody tr th:only-of-type {\n",
       "        vertical-align: middle;\n",
       "    }\n",
       "\n",
       "    .dataframe tbody tr th {\n",
       "        vertical-align: top;\n",
       "    }\n",
       "\n",
       "    .dataframe thead th {\n",
       "        text-align: right;\n",
       "    }\n",
       "</style>\n",
       "<table border=\"1\" class=\"dataframe\">\n",
       "  <thead>\n",
       "    <tr style=\"text-align: right;\">\n",
       "      <th></th>\n",
       "      <th>age</th>\n",
       "      <th>employ</th>\n",
       "      <th>address</th>\n",
       "      <th>income</th>\n",
       "      <th>debtinc</th>\n",
       "      <th>creddebt</th>\n",
       "      <th>othdebt</th>\n",
       "      <th>default</th>\n",
       "      <th>job_civil service</th>\n",
       "      <th>job_own business</th>\n",
       "      <th>job_working - IT</th>\n",
       "      <th>job_working - other</th>\n",
       "      <th>job_working - production</th>\n",
       "    </tr>\n",
       "  </thead>\n",
       "  <tbody>\n",
       "    <tr>\n",
       "      <th>0</th>\n",
       "      <td>28</td>\n",
       "      <td>7</td>\n",
       "      <td>2</td>\n",
       "      <td>44</td>\n",
       "      <td>17.7</td>\n",
       "      <td>2.990592</td>\n",
       "      <td>4.797408</td>\n",
       "      <td>0</td>\n",
       "      <td>0</td>\n",
       "      <td>0</td>\n",
       "      <td>0</td>\n",
       "      <td>1</td>\n",
       "      <td>0</td>\n",
       "    </tr>\n",
       "    <tr>\n",
       "      <th>1</th>\n",
       "      <td>64</td>\n",
       "      <td>34</td>\n",
       "      <td>17</td>\n",
       "      <td>116</td>\n",
       "      <td>14.7</td>\n",
       "      <td>5.047392</td>\n",
       "      <td>12.004608</td>\n",
       "      <td>0</td>\n",
       "      <td>0</td>\n",
       "      <td>0</td>\n",
       "      <td>0</td>\n",
       "      <td>0</td>\n",
       "      <td>1</td>\n",
       "    </tr>\n",
       "    <tr>\n",
       "      <th>2</th>\n",
       "      <td>40</td>\n",
       "      <td>20</td>\n",
       "      <td>12</td>\n",
       "      <td>61</td>\n",
       "      <td>4.8</td>\n",
       "      <td>1.042368</td>\n",
       "      <td>1.885632</td>\n",
       "      <td>0</td>\n",
       "      <td>0</td>\n",
       "      <td>0</td>\n",
       "      <td>1</td>\n",
       "      <td>0</td>\n",
       "      <td>0</td>\n",
       "    </tr>\n",
       "    <tr>\n",
       "      <th>3</th>\n",
       "      <td>30</td>\n",
       "      <td>11</td>\n",
       "      <td>3</td>\n",
       "      <td>27</td>\n",
       "      <td>34.5</td>\n",
       "      <td>1.751220</td>\n",
       "      <td>7.563780</td>\n",
       "      <td>0</td>\n",
       "      <td>0</td>\n",
       "      <td>0</td>\n",
       "      <td>1</td>\n",
       "      <td>0</td>\n",
       "      <td>0</td>\n",
       "    </tr>\n",
       "    <tr>\n",
       "      <th>4</th>\n",
       "      <td>25</td>\n",
       "      <td>2</td>\n",
       "      <td>2</td>\n",
       "      <td>30</td>\n",
       "      <td>22.4</td>\n",
       "      <td>0.759360</td>\n",
       "      <td>5.960640</td>\n",
       "      <td>1</td>\n",
       "      <td>0</td>\n",
       "      <td>0</td>\n",
       "      <td>1</td>\n",
       "      <td>0</td>\n",
       "      <td>0</td>\n",
       "    </tr>\n",
       "  </tbody>\n",
       "</table>\n",
       "</div>"
      ],
      "text/plain": [
       "   age  employ  address  income  debtinc  creddebt    othdebt  default  \\\n",
       "0   28       7        2      44     17.7  2.990592   4.797408        0   \n",
       "1   64      34       17     116     14.7  5.047392  12.004608        0   \n",
       "2   40      20       12      61      4.8  1.042368   1.885632        0   \n",
       "3   30      11        3      27     34.5  1.751220   7.563780        0   \n",
       "4   25       2        2      30     22.4  0.759360   5.960640        1   \n",
       "\n",
       "   job_civil service  job_own business  job_working - IT  job_working - other  \\\n",
       "0                  0                 0                 0                    1   \n",
       "1                  0                 0                 0                    0   \n",
       "2                  0                 0                 1                    0   \n",
       "3                  0                 0                 1                    0   \n",
       "4                  0                 0                 1                    0   \n",
       "\n",
       "   job_working - production  \n",
       "0                         0  \n",
       "1                         1  \n",
       "2                         0  \n",
       "3                         0  \n",
       "4                         0  "
      ]
     },
     "execution_count": 42,
     "metadata": {},
     "output_type": "execute_result"
    }
   ],
   "source": [
    "data_onehot.head()"
   ]
  },
  {
   "cell_type": "code",
   "execution_count": 43,
   "metadata": {},
   "outputs": [],
   "source": [
    "X_train, X_test, y_train, y_test = train_test_split(data_onehot.drop('default', axis = 1), data_onehot['default'], \n",
    "                                                    test_size = 0.3, stratify = data_onehot['default'],\n",
    "                                                   random_state = 42)"
   ]
  },
  {
   "cell_type": "code",
   "execution_count": 44,
   "metadata": {},
   "outputs": [],
   "source": [
    "standardscaler = StandardScaler()"
   ]
  },
  {
   "cell_type": "code",
   "execution_count": 45,
   "metadata": {},
   "outputs": [
    {
     "name": "stderr",
     "output_type": "stream",
     "text": [
      "C:\\Users\\Dell\\Anaconda3\\envs\\py36\\lib\\site-packages\\sklearn\\preprocessing\\data.py:625: DataConversionWarning: Data with input dtype uint8, int64, float64 were all converted to float64 by StandardScaler.\n",
      "  return self.partial_fit(X, y)\n"
     ]
    },
    {
     "data": {
      "text/plain": [
       "StandardScaler(copy=True, with_mean=True, with_std=True)"
      ]
     },
     "execution_count": 45,
     "metadata": {},
     "output_type": "execute_result"
    }
   ],
   "source": [
    "standardscaler.fit(X_train)"
   ]
  },
  {
   "cell_type": "code",
   "execution_count": 46,
   "metadata": {},
   "outputs": [
    {
     "name": "stderr",
     "output_type": "stream",
     "text": [
      "C:\\Users\\Dell\\Anaconda3\\envs\\py36\\lib\\site-packages\\ipykernel_launcher.py:1: DataConversionWarning: Data with input dtype uint8, int64, float64 were all converted to float64 by StandardScaler.\n",
      "  \"\"\"Entry point for launching an IPython kernel.\n",
      "C:\\Users\\Dell\\Anaconda3\\envs\\py36\\lib\\site-packages\\ipykernel_launcher.py:2: DataConversionWarning: Data with input dtype uint8, int64, float64 were all converted to float64 by StandardScaler.\n",
      "  \n"
     ]
    }
   ],
   "source": [
    "X_train_standardscaled = standardscaler.transform(X_train)\n",
    "X_test_standardscaled = standardscaler.transform(X_test)"
   ]
  },
  {
   "cell_type": "code",
   "execution_count": 47,
   "metadata": {},
   "outputs": [
    {
     "data": {
      "text/plain": [
       "pandas.core.series.Series"
      ]
     },
     "execution_count": 47,
     "metadata": {},
     "output_type": "execute_result"
    }
   ],
   "source": [
    "type(y_train)#?type (X_train_standardscaled)"
   ]
  },
  {
   "cell_type": "code",
   "execution_count": 48,
   "metadata": {},
   "outputs": [
    {
     "data": {
      "text/plain": [
       "numpy.ndarray"
      ]
     },
     "execution_count": 48,
     "metadata": {},
     "output_type": "execute_result"
    }
   ],
   "source": [
    "type (X_train_standardscaled)#?type(y_train)"
   ]
  },
  {
   "cell_type": "code",
   "execution_count": 49,
   "metadata": {},
   "outputs": [],
   "source": [
    "logreg = LogisticRegression(solver = 'lbfgs', max_iter = 200)"
   ]
  },
  {
   "cell_type": "code",
   "execution_count": 50,
   "metadata": {},
   "outputs": [
    {
     "data": {
      "text/plain": [
       "LogisticRegression(C=1.0, class_weight=None, dual=False, fit_intercept=True,\n",
       "          intercept_scaling=1, max_iter=200, multi_class='warn',\n",
       "          n_jobs=None, penalty='l2', random_state=None, solver='lbfgs',\n",
       "          tol=0.0001, verbose=0, warm_start=False)"
      ]
     },
     "execution_count": 50,
     "metadata": {},
     "output_type": "execute_result"
    }
   ],
   "source": [
    "logreg.fit(X_train_standardscaled, y_train)"
   ]
  },
  {
   "cell_type": "code",
   "execution_count": 51,
   "metadata": {},
   "outputs": [
    {
     "name": "stdout",
     "output_type": "stream",
     "text": [
      "0.7771428571428571\n",
      "0.7466666666666667\n"
     ]
    }
   ],
   "source": [
    "print(logreg.score(X_train_standardscaled, y_train))\n",
    "print(logreg.score(X_test_standardscaled, y_test))"
   ]
  },
  {
   "cell_type": "code",
   "execution_count": 52,
   "metadata": {},
   "outputs": [
    {
     "data": {
      "text/plain": [
       "array([1, 0, 0, 0, 0, 1, 0, 1, 1, 1], dtype=int64)"
      ]
     },
     "execution_count": 52,
     "metadata": {},
     "output_type": "execute_result"
    }
   ],
   "source": [
    "logreg_predvalues = logreg.predict(X_test_standardscaled)\n",
    "logreg_predvalues[:10]"
   ]
  },
  {
   "cell_type": "code",
   "execution_count": 53,
   "metadata": {},
   "outputs": [
    {
     "data": {
      "text/plain": [
       "array([[0.15649385, 0.84350615],\n",
       "       [0.79751383, 0.20248617],\n",
       "       [0.76867516, 0.23132484],\n",
       "       [0.99837795, 0.00162205],\n",
       "       [0.901663  , 0.098337  ],\n",
       "       [0.42014699, 0.57985301],\n",
       "       [0.9490018 , 0.0509982 ],\n",
       "       [0.30068302, 0.69931698],\n",
       "       [0.32516072, 0.67483928],\n",
       "       [0.17958613, 0.82041387]])"
      ]
     },
     "execution_count": 53,
     "metadata": {},
     "output_type": "execute_result"
    }
   ],
   "source": [
    "logreg_probabilities = logreg.predict_proba(X_test_standardscaled)\n",
    "logreg_probabilities[:10]"
   ]
  }
 ],
 "metadata": {
  "kernelspec": {
   "display_name": "Python 3",
   "language": "python",
   "name": "python3"
  },
  "language_info": {
   "codemirror_mode": {
    "name": "ipython",
    "version": 3
   },
   "file_extension": ".py",
   "mimetype": "text/x-python",
   "name": "python",
   "nbconvert_exporter": "python",
   "pygments_lexer": "ipython3",
   "version": "3.6.6"
  }
 },
 "nbformat": 4,
 "nbformat_minor": 2
}
